{
 "cells": [
  {
   "cell_type": "code",
   "execution_count": 1,
   "id": "e24f7d4f",
   "metadata": {},
   "outputs": [
    {
     "data": {
      "text/plain": [
       "(0.4943793119474541, 0.5449319688365669)"
      ]
     },
     "execution_count": 1,
     "metadata": {},
     "output_type": "execute_result"
    }
   ],
   "source": [
    "# B.4.1  Confidence Intervals for Proportions\n",
    "\n",
    "from statsmodels.stats.proportion import proportion_confint\n",
    "proportion_confint(778, 1497, method='normal') # default\n",
    "(0.4943973906940667, 0.545014766954564) # 95% Wald CI\n",
    "proportion_confint(778, 1497, method='wilson')\n",
    "(0.4943793119474541, 0.5449319688365669) # 95% Score CI\n"
   ]
  },
  {
   "cell_type": "code",
   "execution_count": 5,
   "id": "b237381f",
   "metadata": {},
   "outputs": [
    {
     "data": {
      "text/plain": [
       "array([12.70620474,  2.22813885,  2.04227246,  1.98397152,  1.96233908,\n",
       "        1.96020124])"
      ]
     },
     "execution_count": 5,
     "metadata": {},
     "output_type": "execute_result"
    }
   ],
   "source": [
    "# B.4.2 The t Distribution\n",
    "\n",
    "import numpy as np\n",
    "df = np.array([1, 10, 30, 100, 1000, 10000])\n",
    "from scipy.stats import t\n",
    "t.ppf(0.975, df) # 0.975-quantiles for specified df values\n"
   ]
  },
  {
   "cell_type": "code",
   "execution_count": 4,
   "id": "487c1099",
   "metadata": {},
   "outputs": [
    {
     "data": {
      "text/plain": [
       "0.9750000000063903"
      ]
     },
     "execution_count": 4,
     "metadata": {},
     "output_type": "execute_result"
    }
   ],
   "source": [
    "t.cdf(1.96020124, 10000)"
   ]
  },
  {
   "cell_type": "code",
   "execution_count": 9,
   "id": "a5177c5a",
   "metadata": {},
   "outputs": [
    {
     "data": {
      "text/html": [
       "<div>\n",
       "<style scoped>\n",
       "    .dataframe tbody tr th:only-of-type {\n",
       "        vertical-align: middle;\n",
       "    }\n",
       "\n",
       "    .dataframe tbody tr th {\n",
       "        vertical-align: top;\n",
       "    }\n",
       "\n",
       "    .dataframe thead th {\n",
       "        text-align: right;\n",
       "    }\n",
       "</style>\n",
       "<table border=\"1\" class=\"dataframe\">\n",
       "  <thead>\n",
       "    <tr style=\"text-align: right;\">\n",
       "      <th></th>\n",
       "      <th>subject</th>\n",
       "      <th>therapy</th>\n",
       "      <th>before</th>\n",
       "      <th>after</th>\n",
       "    </tr>\n",
       "  </thead>\n",
       "  <tbody>\n",
       "    <tr>\n",
       "      <th>0</th>\n",
       "      <td>1</td>\n",
       "      <td>cb</td>\n",
       "      <td>80.5</td>\n",
       "      <td>82.2</td>\n",
       "    </tr>\n",
       "    <tr>\n",
       "      <th>1</th>\n",
       "      <td>2</td>\n",
       "      <td>cb</td>\n",
       "      <td>84.9</td>\n",
       "      <td>85.6</td>\n",
       "    </tr>\n",
       "    <tr>\n",
       "      <th>2</th>\n",
       "      <td>3</td>\n",
       "      <td>cb</td>\n",
       "      <td>81.5</td>\n",
       "      <td>81.4</td>\n",
       "    </tr>\n",
       "  </tbody>\n",
       "</table>\n",
       "</div>"
      ],
      "text/plain": [
       "   subject therapy  before  after\n",
       "0        1      cb    80.5   82.2\n",
       "1        2      cb    84.9   85.6\n",
       "2        3      cb    81.5   81.4"
      ]
     },
     "execution_count": 9,
     "metadata": {},
     "output_type": "execute_result"
    }
   ],
   "source": [
    "# B.4.3 Confidence Intervals for Means\n",
    "\n",
    "import pandas as pd\n",
    "import numpy as np\n",
    "import matplotlib.pyplot as plt\n",
    "Anor = pd.read_csv('http://stat4ds.rwth-aachen.de/data/Anorexia.dat', sep='\\s+')\n",
    "Anor.head(3)\n",
    "\n",
    "\n",
    "\n"
   ]
  },
  {
   "cell_type": "code",
   "execution_count": 10,
   "id": "231c0f0f",
   "metadata": {},
   "outputs": [
    {
     "data": {
      "text/plain": [
       "count    29.000000\n",
       "mean      3.006897\n",
       "std       7.308504\n",
       "min      -9.100000\n",
       "25%      -0.700000\n",
       "50%       1.400000\n",
       "75%       3.900000\n",
       "max      20.900000\n",
       "Name: change, dtype: float64"
      ]
     },
     "execution_count": 10,
     "metadata": {},
     "output_type": "execute_result"
    }
   ],
   "source": [
    "change = Anor['after'] - Anor['before']\n",
    "Anor['change'] = change # add new variable to the data frame\n",
    "Anor.loc[Anor['therapy'] == 'cb']['change'].describe()\n",
    "\n",
    "\n"
   ]
  },
  {
   "cell_type": "code",
   "execution_count": 11,
   "id": "141bd25a",
   "metadata": {},
   "outputs": [
    {
     "data": {
      "text/plain": [
       "(0.22689015835877635, 5.7869029450894995)"
      ]
     },
     "execution_count": 11,
     "metadata": {},
     "output_type": "execute_result"
    },
    {
     "data": {
      "image/png": "[encoded data removed]",
      "text/plain": [
       "<Figure size 432x288 with 1 Axes>"
      ]
     },
     "metadata": {
      "needs_background": "light"
     },
     "output_type": "display_data"
    }
   ],
   "source": [
    "bins=list(range(-10,30,5)) # histogram with pre-specified bins:\n",
    "plt.hist(Anor.loc[Anor['therapy']=='cb']['change'],\n",
    "bins, edgecolor='k')\n",
    "plt.xlabel('Weight change'); plt.ylabel('Frequency')\n",
    "changeCB = Anor.loc[Anor['therapy'] == 'cb']['change']\n",
    "import statsmodels.stats.api as sms\n",
    "sms.DescrStatsW(changeCB).tconfint_mean() # default alpha=0.05"
   ]
  },
  {
   "cell_type": "code",
   "execution_count": 12,
   "id": "3d02cadd",
   "metadata": {},
   "outputs": [
    {
     "data": {
      "text/plain": [
       "(-0.7432794440477521, 6.757072547496028)"
      ]
     },
     "execution_count": 12,
     "metadata": {},
     "output_type": "execute_result"
    }
   ],
   "source": [
    "sms.DescrStatsW(changeCB).tconfint_mean(alpha=0.01)"
   ]
  },
  {
   "cell_type": "code",
   "execution_count": 21,
   "id": "a4c35b7c",
   "metadata": {},
   "outputs": [
    {
     "name": "stdout",
     "output_type": "stream",
     "text": [
      "mean1 - mean2 = 3.456896551724137\n",
      "0.95 confidence interval: [-0.68013704  7.59393014]\n",
      "df = 53\n",
      "\n",
      "mean1 - mean2 = 3.456896551724137\n",
      "0.95 confidence interval: [-0.70446319  7.61825629]\n",
      "df = 50.97065330426786\n"
     ]
    }
   ],
   "source": [
    "# B.4.4  Confidence Intervals Comparing Means and Comparing Propor-tions\n",
    "\n",
    "import numpy as np\n",
    "from scipy.stats import t\n",
    "def t2ind_confint(y1, y2, equal_var = True, alpha = 0.05):\n",
    "# y1, y2: vectors or data frames of values for groups A and B\n",
    "    n1 = len(y1); n2 = len(y2)\n",
    "    v1 = np.var(y1)*n1/(n1-1); v2 = np.var(y2)*n2/(n2-1)\n",
    "    if equal_var:\n",
    "        df = n1 + n2 - 2\n",
    "        vardiff = ((n1-1)*v1+(n2-1)*v2)/(n1+n2-2)*(1/n1 + 1/n2)\n",
    "    else:\n",
    "        df = (v1/n1 + v2/n2)**2/(v1**2/(n1**2*(n1-1)) + v2**2/(n2**2*(n2-1)))\n",
    "        vardiff = v1/n1 + v2/n2\n",
    "    \n",
    "    se = np.sqrt(vardiff)  \n",
    "    qt = t.ppf(1 - alpha/2, df) # t quantile for 100(1-alpha)% CI\n",
    "    mean_diff = np.mean(y1) - np.mean(y2)\n",
    "    confint = mean_diff + np.array([-1, 1]) * qt * se\n",
    "    conf = 1 - alpha\n",
    "    return mean_diff, confint, conf, df\n",
    "\n",
    "# returns: mean(A) - mean(B), CI for mu_A - mu_B, confidence level, df\n",
    "\n",
    "\n",
    "# continue analysis from Section B.4.3 with Anor data file\n",
    "\n",
    "cogbehav = Anor.loc[Anor['therapy']=='cb']['change']\n",
    "control = Anor.loc[Anor['therapy']=='c']['change']\n",
    "mean_diff, confint, conf, df = t2ind_confint(cogbehav,control)\n",
    "print('mean1 - mean2 =', mean_diff) # assume equal variances\n",
    "print(conf, 'confidence interval:', confint)\n",
    "print('df =', df)\n",
    "\n",
    "# mean1 - mean2 = 3.456896551724137\n",
    "# 0.95 confidence interval: [-0.68013704 7.59393014]\n",
    "# df = 53\n",
    "print()\n",
    "mean_diff, confint, conf, df = t2ind_confint(cogbehav,control, equal_var=False)\n",
    "# permit unequal variances\n",
    "\n",
    "print('mean1 - mean2 =', mean_diff)\n",
    "print(conf, 'confidence interval:', confint)\n",
    "print('df =', df)"
   ]
  },
  {
   "cell_type": "code",
   "execution_count": 22,
   "id": "29576a6a",
   "metadata": {},
   "outputs": [
    {
     "name": "stdout",
     "output_type": "stream",
     "text": [
      "prop1 - prop2 = 0.012310448489689096\n",
      "0.95 confidence interval: [-0.04421536  0.06883625]\n"
     ]
    }
   ],
   "source": [
    "import numpy as np\n",
    "from scipy.stats import norm\n",
    "\n",
    "def prop2_confint(y1, n1, y2, n2, alpha = 0.05):\n",
    "    # y1, y2 : numbers of successes in groups A and B\n",
    "    # n1, n2 : sample sizes in groups A and B\n",
    "    prop1 = y1/n1; prop2 = y2/n2\n",
    "    var = prop1*(1 - prop1)/n1 + prop2*(1 - prop2)/n2\n",
    "    se = np.sqrt(var)\n",
    "    qz = norm.ppf(1 - alpha/2) # standard normal quantile\n",
    "    prop_diff = prop1 - prop2\n",
    "    confint = prop_diff + np.array([-1, 1]) * qz * se\n",
    "    conf = 1 - alpha\n",
    "    return prop_diff, confint, conf # returns diff, CI, level\n",
    "\n",
    "# call the function for data on prayers and coronary surgery\n",
    "\n",
    "prop_diff, confint, conf = prop2_confint(315, 604, 304, 597)\n",
    "print('prop1 - prop2 =', prop_diff)\n",
    "print(conf, 'confidence interval:', confint)\n",
    "\n",
    "# prop1 - prop2 = 0.012310448489689096\n",
    "# 0.95 CI: [-0.04421536 0.06883625]"
   ]
  },
  {
   "cell_type": "code",
   "execution_count": 24,
   "id": "ae61f0d1",
   "metadata": {},
   "outputs": [
    {
     "name": "stdout",
     "output_type": "stream",
     "text": [
      "17.0    (15.0, 23.0)\n",
      "25.548688675899356    (15.552564154719057, 37.813783322956866)\n"
     ]
    },
    {
     "data": {
      "image/png": "[encoded data removed]",
      "text/plain": [
       "<Figure size 432x288 with 1 Axes>"
      ]
     },
     "metadata": {
      "needs_background": "light"
     },
     "output_type": "display_data"
    }
   ],
   "source": [
    "# B.4.5 Bootstrap Confidence Intervals\n",
    "# Section 4.6.2 \n",
    "\n",
    "import pandas as pd\n",
    "import numpy as np\n",
    "import matplotlib.pyplot as plt\n",
    "Books = pd.read_csv('http://stat4ds.rwth-aachen.de/data/Library.dat', sep='\\s+')\n",
    "Books.head(3)\n",
    "\n",
    "# C P # P = number of years since publication of book\n",
    "# 0 1 3\n",
    "# 1 9 9\n",
    "# 2 4 4\n",
    "np.median(Books['P'])\n",
    "# 17.0\n",
    "\n",
    "plt.boxplot(Books['P'], vert=False) # Box plot of 'P' with outliers\n",
    "plt.xlabel('Years since publication')\n",
    "plt.boxplot(Books['P'], vert=False, showfliers=False) # without outliers\n",
    "plt.xlabel('Years since publication')\n",
    "\n",
    "# pip install bootstrapped # needs to be done once\n",
    "import bootstrapped.bootstrap as bs\n",
    "import bootstrapped.stats_functions as bs_stats\n",
    "\n",
    "population = Books['P']\n",
    "samples = np.array(population[:100000])\n",
    "\n",
    "print(bs.bootstrap(samples, stat_func = bs_stats.median))\n",
    "# 17.0 (15.0, 23.0) # bootstrap 95% CI for median of P\n",
    "\n",
    "print(bs.bootstrap(samples, stat_func = bs_stats.std))\n",
    "# 25.548688676 (15.567148, 37.952999) # bootstrap 95% CI for standard deviation\n",
    "\n",
    "\n",
    "\n"
   ]
  },
  {
   "cell_type": "code",
   "execution_count": 37,
   "id": "f545adda",
   "metadata": {},
   "outputs": [
    {
     "name": "stdout",
     "output_type": "stream",
     "text": [
      "[ 0.6859991977713934 , 0.738485384665883 ]\n"
     ]
    }
   ],
   "source": [
    "# B.4.6 Bayesian Posterior Intervals for Proportions and Means\n",
    "\n",
    "from statsmodels.stats.proportion import proportion_confint\n",
    "proportion_confint(814, 1142, method='jeffreys')\n",
    "# (0.686028505, 0.738463665) # 95% Jeffreys posterior interval\n",
    "\n",
    "import pymc3\n",
    "from scipy.stats import beta\n",
    "\n",
    "beta_dist = beta.rvs(size = 5000000, a = 814.5, b = 328.5)\n",
    "# print(pymc3.stats.hpd(beta_dist, alpha=0.05))\n",
    "# [0.68727542 0.73758295] # 95% HPD interval when use Jeffreys prior\n",
    "\n",
    "import numpy as np\n",
    "print('[',np.quantile(beta_dist, 0.025),',', np.quantile(beta_dist, 0.975),']')\n",
    "# [ 0.6860454783123715 , 0.7384521768118637 ] # ordinary 95% posterior interval\n"
   ]
  },
  {
   "cell_type": "code",
   "execution_count": 39,
   "id": "5935cc96",
   "metadata": {},
   "outputs": [
    {
     "name": "stderr",
     "output_type": "stream",
     "text": [
      "C:\\Users\\Lut Lat Aung\\anaconda3\\lib\\site-packages\\deprecat\\classic.py:215: FutureWarning: In v4.0, pm.sample will return an `arviz.InferenceData` object instead of a `MultiTrace` by default. You can pass return_inferencedata=True or return_inferencedata=False to be safe and silence this warning.\n",
      "  return wrapped_(*args_, **kwargs_)\n",
      "Auto-assigning NUTS sampler...\n",
      "Initializing NUTS using jitter+adapt_diag...\n",
      "C:\\Users\\Lut Lat Aung\\anaconda3\\lib\\site-packages\\theano\\tensor\\elemwise.py:826: RuntimeWarning: divide by zero encountered in log\n",
      "  variables = ufunc(*ufunc_args, **ufunc_kwargs)\n",
      "C:\\Users\\Lut Lat Aung\\anaconda3\\lib\\site-packages\\theano\\tensor\\elemwise.py:826: RuntimeWarning: invalid value encountered in multiply\n",
      "  variables = ufunc(*ufunc_args, **ufunc_kwargs)\n",
      "C:\\Users\\Lut Lat Aung\\anaconda3\\lib\\site-packages\\theano\\tensor\\elemwise.py:826: RuntimeWarning: invalid value encountered in log\n",
      "  variables = ufunc(*ufunc_args, **ufunc_kwargs)\n",
      "Multiprocess sampling (2 chains in 2 jobs)\n",
      "NUTS: [Intercept, sigma]\n"
     ]
    },
    {
     "data": {
      "text/html": [
       "\n",
       "<style>\n",
       "    /* Turns off some styling */\n",
       "    progress {\n",
       "        /* gets rid of default border in Firefox and Opera. */\n",
       "        border: none;\n",
       "        /* Needs to be in here for Safari polyfill so background images work as expected. */\n",
       "        background-size: auto;\n",
       "    }\n",
       "    progress:not([value]), progress:not([value])::-webkit-progress-bar {\n",
       "        background: repeating-linear-gradient(45deg, #7e7e7e, #7e7e7e 10px, #5c5c5c 10px, #5c5c5c 20px);\n",
       "    }\n",
       "    .progress-bar-interrupted, .progress-bar-interrupted::-webkit-progress-bar {\n",
       "        background: #F44336;\n",
       "    }\n",
       "</style>\n"
      ],
      "text/plain": [
       "<IPython.core.display.HTML object>"
      ]
     },
     "metadata": {},
     "output_type": "display_data"
    },
    {
     "data": {
      "text/html": [
       "\n",
       "    <div>\n",
       "      <progress value='11521' class='' max='102000' style='width:300px; height:20px; vertical-align: middle;'></progress>\n",
       "      11.30% [11521/102000 00:37&lt;04:53 Sampling 2 chains, 0 divergences]\n",
       "    </div>\n",
       "    "
      ],
      "text/plain": [
       "<IPython.core.display.HTML object>"
      ]
     },
     "metadata": {},
     "output_type": "display_data"
    },
    {
     "name": "stderr",
     "output_type": "stream",
     "text": [
      "Sampling 2 chains for 1_000 tune and 4_760 draw iterations (2_000 + 9_520 draws total) took 44 seconds.\n"
     ]
    },
    {
     "ename": "AttributeError",
     "evalue": "module 'pymc3.stats' has no attribute 'hpd'",
     "output_type": "error",
     "traceback": [
      "\u001b[1;31m---------------------------------------------------------------------------\u001b[0m",
      "\u001b[1;31mAttributeError\u001b[0m                            Traceback (most recent call last)",
      "Input \u001b[1;32mIn [39]\u001b[0m, in \u001b[0;36m<cell line: 20>\u001b[1;34m()\u001b[0m\n\u001b[0;32m     17\u001b[0m np\u001b[38;5;241m.\u001b[39mstd(trace[\u001b[38;5;124m'\u001b[39m\u001b[38;5;124mIntercept\u001b[39m\u001b[38;5;124m'\u001b[39m])\n\u001b[0;32m     18\u001b[0m \u001b[38;5;66;03m# 1.413687215567763 # standard deviation of posterior dist.\u001b[39;00m\n\u001b[1;32m---> 20\u001b[0m \u001b[43mpymc3\u001b[49m\u001b[38;5;241;43m.\u001b[39;49m\u001b[43mstats\u001b[49m\u001b[38;5;241;43m.\u001b[39;49m\u001b[43mhpd\u001b[49m(trace[\u001b[38;5;124m'\u001b[39m\u001b[38;5;124mIntercept\u001b[39m\u001b[38;5;124m'\u001b[39m], alpha\u001b[38;5;241m=\u001b[39m\u001b[38;5;241m0.05\u001b[39m)\n",
      "\u001b[1;31mAttributeError\u001b[0m: module 'pymc3.stats' has no attribute 'hpd'"
     ]
    }
   ],
   "source": [
    "# continue analysis from Section B.4.3 with Anor data file\n",
    "# (required is the variable: changeCB )\n",
    "import numpy as np\n",
    "from pymc3 import *\n",
    "data = dict(y = changeCB)\n",
    "B0=10**(-7) # using priors: inverse gamma,\n",
    "with Model() as model:\n",
    "    # define highly disperse priors for variance and mean\n",
    "    sigma = InverseGamma('sigma', B0, B0, testval=1.)\n",
    "    intercept = Normal('Intercept', 0, sigma=1/B0)\n",
    "    # define likelihood function for normal responses\n",
    "    likelihood = Normal('y',mu=intercept,sigma=sigma,observed=changeCB)\n",
    "    trace = sample(50000, cores=2) # 100000 posterior samples\n",
    "    \n",
    "np.mean(trace['Intercept'])\n",
    "# 3.007279525692707 # mean of posterior distribution\n",
    "np.std(trace['Intercept'])\n",
    "# 1.413687215567763 # standard deviation of posterior dist.\n",
    "\n",
    "pymc3.stats.hpd(trace['Intercept'], alpha=0.05)\n",
    "# array([0.31450337, 5.61027393]) # 95% posterior interval\n"
   ]
  },
  {
   "cell_type": "code",
   "execution_count": 41,
   "id": "a861d288",
   "metadata": {},
   "outputs": [
    {
     "data": {
      "text/plain": [
       "(4.05291076215289, 4.163011567944197)"
      ]
     },
     "execution_count": 41,
     "metadata": {},
     "output_type": "execute_result"
    }
   ],
   "source": [
    "# B.5.3 Significance Tests for Means\n",
    "\n",
    "import pandas as pd\n",
    "Polid = pd.read_csv('http://stat4ds.rwth-aachen.de/data/Polid.dat', sep='\\s+')\n",
    "Polid.head(2)\n",
    "# race ideology\n",
    "# 1 hispanic 1\n",
    "# 2 hispanic 1\n",
    "\n",
    "from scipy import stats\n",
    "stats.ttest_1samp(Polid.loc[Polid['race']=='hispanic']['ideology'], 4.0)\n",
    "# H_0 mean value is 4.0\n",
    "# Ttest_1sampResult(statistic=1.2827341281592484, pvalue=0.20039257254280335)\n",
    "\n",
    "import statsmodels.stats.api as sms\n",
    "sms.DescrStatsW(Polid.loc[Polid['race']=='hispanic']['ideology']).tconfint_mean()\n",
    "# (3.9523333438892, 4.2265284447287) # 95% CI for population mean\n",
    "\n",
    "from scipy import stats\n",
    "stats.ttest_1samp(Polid['ideology'], 4.0)\n",
    "# Ttest_1sampResult(statistic=3.8455584366605935, pvalue=0.00012319510560068636)\n",
    "\n",
    "import statsmodels.stats.api as sms\n",
    "sms.DescrStatsW(Polid['ideology']). tconfint_mean()\n",
    "# (4.05291076215289, 4.163011567944197) # 95% CI for mu\n",
    "\n",
    "\n"
   ]
  },
  {
   "cell_type": "code",
   "execution_count": 44,
   "id": "866aa234",
   "metadata": {},
   "outputs": [
    {
     "name": "stderr",
     "output_type": "stream",
     "text": [
      "C:\\Users\\Lut Lat Aung\\AppData\\Local\\Temp\\ipykernel_5408\\1703171569.py:16: SettingWithCopyWarning: \n",
      "A value is trying to be set on a copy of a slice from a DataFrame.\n",
      "Try using .loc[row_indexer,col_indexer] = value instead\n",
      "\n",
      "See the caveats in the documentation: https://pandas.pydata.org/pandas-docs/stable/user_guide/indexing.html#returning-a-view-versus-a-copy\n",
      "  change = Anor2['after'] - Anor2['before']; Anor2['change']=change\n",
      "C:\\Users\\Lut Lat Aung\\AppData\\Local\\Temp\\ipykernel_5408\\1703171569.py:22: SettingWithCopyWarning: \n",
      "A value is trying to be set on a copy of a slice from a DataFrame.\n",
      "Try using .loc[row_indexer,col_indexer] = value instead\n",
      "\n",
      "See the caveats in the documentation: https://pandas.pydata.org/pandas-docs/stable/user_guide/indexing.html#returning-a-view-versus-a-copy\n",
      "  Anor2['x'] = LE.fit_transform(Anor2['therapy'])\n",
      "C:\\Users\\Lut Lat Aung\\anaconda3\\lib\\site-packages\\deprecat\\classic.py:215: FutureWarning: In v4.0, pm.sample will return an `arviz.InferenceData` object instead of a `MultiTrace` by default. You can pass return_inferencedata=True or return_inferencedata=False to be safe and silence this warning.\n",
      "  return wrapped_(*args_, **kwargs_)\n",
      "Auto-assigning NUTS sampler...\n"
     ]
    },
    {
     "name": "stdout",
     "output_type": "stream",
     "text": [
      "                            OLS Regression Results                            \n",
      "==============================================================================\n",
      "Dep. Variable:                 change   R-squared:                       0.050\n",
      "Model:                            OLS   Adj. R-squared:                  0.032\n",
      "Method:                 Least Squares   F-statistic:                     2.809\n",
      "Date:                Thu, 29 Sep 2022   Prob (F-statistic):             0.0996\n",
      "Time:                        16:05:30   Log-Likelihood:                -188.84\n",
      "No. Observations:                  55   AIC:                             381.7\n",
      "Df Residuals:                      53   BIC:                             385.7\n",
      "Df Model:                           1                                         \n",
      "Covariance Type:            nonrobust                                         \n",
      "====================================================================================\n",
      "                       coef    std err          t      P>|t|      [0.025      0.975]\n",
      "------------------------------------------------------------------------------------\n",
      "Intercept           -0.4500      1.498     -0.300      0.765      -3.454       2.554\n",
      "C(therapy)[T.cb]     3.4569      2.063      1.676      0.100      -0.680       7.594\n",
      "==============================================================================\n",
      "Omnibus:                        3.708   Durbin-Watson:                   2.417\n",
      "Prob(Omnibus):                  0.157   Jarque-Bera (JB):                3.595\n",
      "Skew:                           0.594   Prob(JB):                        0.166\n",
      "Kurtosis:                       2.602   Cond. No.                         2.69\n",
      "==============================================================================\n",
      "\n",
      "Notes:\n",
      "[1] Standard Errors assume that the covariance matrix of the errors is correctly specified.\n"
     ]
    },
    {
     "name": "stderr",
     "output_type": "stream",
     "text": [
      "Initializing NUTS using jitter+adapt_diag...\n",
      "C:\\Users\\Lut Lat Aung\\anaconda3\\lib\\site-packages\\theano\\tensor\\elemwise.py:826: RuntimeWarning: divide by zero encountered in log\n",
      "  variables = ufunc(*ufunc_args, **ufunc_kwargs)\n",
      "C:\\Users\\Lut Lat Aung\\anaconda3\\lib\\site-packages\\theano\\tensor\\elemwise.py:826: RuntimeWarning: invalid value encountered in multiply\n",
      "  variables = ufunc(*ufunc_args, **ufunc_kwargs)\n",
      "C:\\Users\\Lut Lat Aung\\anaconda3\\lib\\site-packages\\theano\\tensor\\elemwise.py:826: RuntimeWarning: invalid value encountered in log\n",
      "  variables = ufunc(*ufunc_args, **ufunc_kwargs)\n",
      "Multiprocess sampling (2 chains in 2 jobs)\n",
      "NUTS: [x, Intercept, sigma]\n"
     ]
    },
    {
     "data": {
      "text/html": [
       "\n",
       "<style>\n",
       "    /* Turns off some styling */\n",
       "    progress {\n",
       "        /* gets rid of default border in Firefox and Opera. */\n",
       "        border: none;\n",
       "        /* Needs to be in here for Safari polyfill so background images work as expected. */\n",
       "        background-size: auto;\n",
       "    }\n",
       "    progress:not([value]), progress:not([value])::-webkit-progress-bar {\n",
       "        background: repeating-linear-gradient(45deg, #7e7e7e, #7e7e7e 10px, #5c5c5c 10px, #5c5c5c 20px);\n",
       "    }\n",
       "    .progress-bar-interrupted, .progress-bar-interrupted::-webkit-progress-bar {\n",
       "        background: #F44336;\n",
       "    }\n",
       "</style>\n"
      ],
      "text/plain": [
       "<IPython.core.display.HTML object>"
      ]
     },
     "metadata": {},
     "output_type": "display_data"
    },
    {
     "data": {
      "text/html": [
       "\n",
       "    <div>\n",
       "      <progress value='102000' class='' max='102000' style='width:300px; height:20px; vertical-align: middle;'></progress>\n",
       "      100.00% [102000/102000 22:11&lt;00:00 Sampling 2 chains, 0 divergences]\n",
       "    </div>\n",
       "    "
      ],
      "text/plain": [
       "<IPython.core.display.HTML object>"
      ]
     },
     "metadata": {},
     "output_type": "display_data"
    },
    {
     "name": "stderr",
     "output_type": "stream",
     "text": [
      "Sampling 2 chains for 1_000 tune and 50_000 draw iterations (2_000 + 100_000 draws total) took 1341 seconds.\n"
     ]
    },
    {
     "ename": "KeyboardInterrupt",
     "evalue": "",
     "output_type": "error",
     "traceback": [
      "\u001b[1;31m---------------------------------------------------------------------------\u001b[0m",
      "\u001b[1;31mKeyboardInterrupt\u001b[0m                         Traceback (most recent call last)",
      "Input \u001b[1;32mIn [44]\u001b[0m, in \u001b[0;36m<cell line: 28>\u001b[1;34m()\u001b[0m\n\u001b[0;32m     33\u001b[0m     \u001b[38;5;66;03m# define likelihood function for normal response variable\u001b[39;00m\n\u001b[0;32m     34\u001b[0m     likelihood \u001b[38;5;241m=\u001b[39m Normal(\u001b[38;5;124m'\u001b[39m\u001b[38;5;124my\u001b[39m\u001b[38;5;124m'\u001b[39m, mu \u001b[38;5;241m=\u001b[39m intercept \u001b[38;5;241m+\u001b[39m x_coeff \u001b[38;5;241m*\u001b[39m x,\n\u001b[0;32m     35\u001b[0m                         sigma \u001b[38;5;241m=\u001b[39m sigma, observed \u001b[38;5;241m=\u001b[39m change)\n\u001b[1;32m---> 36\u001b[0m     fit \u001b[38;5;241m=\u001b[39m \u001b[43msample\u001b[49m\u001b[43m(\u001b[49m\u001b[38;5;241;43m50000\u001b[39;49m\u001b[43m,\u001b[49m\u001b[43m \u001b[49m\u001b[43mcores\u001b[49m\u001b[38;5;241;43m=\u001b[39;49m\u001b[38;5;241;43m2\u001b[39;49m\u001b[43m)\u001b[49m \u001b[38;5;66;03m# posterior samples\u001b[39;00m\n\u001b[0;32m     38\u001b[0m summary(fit)\n\u001b[0;32m     40\u001b[0m np\u001b[38;5;241m.\u001b[39mmean(fit[\u001b[38;5;124m'\u001b[39m\u001b[38;5;124mx\u001b[39m\u001b[38;5;124m'\u001b[39m] \u001b[38;5;241m<\u001b[39m \u001b[38;5;241m0\u001b[39m)\n",
      "File \u001b[1;32m~\\anaconda3\\lib\\site-packages\\deprecat\\classic.py:215\u001b[0m, in \u001b[0;36mdeprecat.<locals>.wrapper_function\u001b[1;34m(wrapped_, instance_, args_, kwargs_)\u001b[0m\n\u001b[0;32m    213\u001b[0m         \u001b[38;5;28;01melse\u001b[39;00m:\n\u001b[0;32m    214\u001b[0m             warnings\u001b[38;5;241m.\u001b[39mwarn(message, category\u001b[38;5;241m=\u001b[39mcategory, stacklevel\u001b[38;5;241m=\u001b[39m_routine_stacklevel)\n\u001b[1;32m--> 215\u001b[0m \u001b[38;5;28;01mreturn\u001b[39;00m wrapped_(\u001b[38;5;241m*\u001b[39margs_, \u001b[38;5;241m*\u001b[39m\u001b[38;5;241m*\u001b[39mkwargs_)\n",
      "File \u001b[1;32m~\\anaconda3\\lib\\site-packages\\pymc3\\sampling.py:655\u001b[0m, in \u001b[0;36msample\u001b[1;34m(draws, step, init, n_init, initvals, trace, chain_idx, chains, cores, tune, progressbar, model, random_seed, discard_tuned_samples, compute_convergence_checks, callback, jitter_max_retries, start, return_inferencedata, idata_kwargs, mp_ctx, pickle_backend, **kwargs)\u001b[0m\n\u001b[0;32m    653\u001b[0m     \u001b[38;5;28;01mif\u001b[39;00m idata_kwargs:\n\u001b[0;32m    654\u001b[0m         ikwargs\u001b[38;5;241m.\u001b[39mupdate(idata_kwargs)\n\u001b[1;32m--> 655\u001b[0m     idata \u001b[38;5;241m=\u001b[39m arviz\u001b[38;5;241m.\u001b[39mfrom_pymc3(trace, \u001b[38;5;241m*\u001b[39m\u001b[38;5;241m*\u001b[39mikwargs)\n\u001b[0;32m    657\u001b[0m \u001b[38;5;28;01mif\u001b[39;00m compute_convergence_checks:\n\u001b[0;32m    658\u001b[0m     \u001b[38;5;28;01mif\u001b[39;00m draws \u001b[38;5;241m-\u001b[39m tune \u001b[38;5;241m<\u001b[39m \u001b[38;5;241m100\u001b[39m:\n",
      "File \u001b[1;32m~\\anaconda3\\lib\\site-packages\\arviz\\data\\io_pymc3_3x.py:580\u001b[0m, in \u001b[0;36mfrom_pymc3\u001b[1;34m(trace, prior, posterior_predictive, log_likelihood, coords, dims, model, save_warmup, density_dist_obs)\u001b[0m\n\u001b[0;32m    528\u001b[0m \u001b[38;5;28;01mdef\u001b[39;00m \u001b[38;5;21mfrom_pymc3\u001b[39m(\n\u001b[0;32m    529\u001b[0m     trace\u001b[38;5;241m=\u001b[39m\u001b[38;5;28;01mNone\u001b[39;00m,\n\u001b[0;32m    530\u001b[0m     \u001b[38;5;241m*\u001b[39m,\n\u001b[1;32m   (...)\u001b[0m\n\u001b[0;32m    538\u001b[0m     density_dist_obs\u001b[38;5;241m=\u001b[39m\u001b[38;5;28;01mTrue\u001b[39;00m,\n\u001b[0;32m    539\u001b[0m ):\n\u001b[0;32m    540\u001b[0m     \u001b[38;5;124;03m\"\"\"Convert pymc3 data into an InferenceData object.\u001b[39;00m\n\u001b[0;32m    541\u001b[0m \n\u001b[0;32m    542\u001b[0m \u001b[38;5;124;03m    All three of them are optional arguments, but at least one of ``trace``,\u001b[39;00m\n\u001b[1;32m   (...)\u001b[0m\n\u001b[0;32m    578\u001b[0m \u001b[38;5;124;03m    InferenceData\u001b[39;00m\n\u001b[0;32m    579\u001b[0m \u001b[38;5;124;03m    \"\"\"\u001b[39;00m\n\u001b[1;32m--> 580\u001b[0m     \u001b[38;5;28;01mreturn\u001b[39;00m \u001b[43mPyMC3Converter\u001b[49m\u001b[43m(\u001b[49m\n\u001b[0;32m    581\u001b[0m \u001b[43m        \u001b[49m\u001b[43mtrace\u001b[49m\u001b[38;5;241;43m=\u001b[39;49m\u001b[43mtrace\u001b[49m\u001b[43m,\u001b[49m\n\u001b[0;32m    582\u001b[0m \u001b[43m        \u001b[49m\u001b[43mprior\u001b[49m\u001b[38;5;241;43m=\u001b[39;49m\u001b[43mprior\u001b[49m\u001b[43m,\u001b[49m\n\u001b[0;32m    583\u001b[0m \u001b[43m        \u001b[49m\u001b[43mposterior_predictive\u001b[49m\u001b[38;5;241;43m=\u001b[39;49m\u001b[43mposterior_predictive\u001b[49m\u001b[43m,\u001b[49m\n\u001b[0;32m    584\u001b[0m \u001b[43m        \u001b[49m\u001b[43mlog_likelihood\u001b[49m\u001b[38;5;241;43m=\u001b[39;49m\u001b[43mlog_likelihood\u001b[49m\u001b[43m,\u001b[49m\n\u001b[0;32m    585\u001b[0m \u001b[43m        \u001b[49m\u001b[43mcoords\u001b[49m\u001b[38;5;241;43m=\u001b[39;49m\u001b[43mcoords\u001b[49m\u001b[43m,\u001b[49m\n\u001b[0;32m    586\u001b[0m \u001b[43m        \u001b[49m\u001b[43mdims\u001b[49m\u001b[38;5;241;43m=\u001b[39;49m\u001b[43mdims\u001b[49m\u001b[43m,\u001b[49m\n\u001b[0;32m    587\u001b[0m \u001b[43m        \u001b[49m\u001b[43mmodel\u001b[49m\u001b[38;5;241;43m=\u001b[39;49m\u001b[43mmodel\u001b[49m\u001b[43m,\u001b[49m\n\u001b[0;32m    588\u001b[0m \u001b[43m        \u001b[49m\u001b[43msave_warmup\u001b[49m\u001b[38;5;241;43m=\u001b[39;49m\u001b[43msave_warmup\u001b[49m\u001b[43m,\u001b[49m\n\u001b[0;32m    589\u001b[0m \u001b[43m        \u001b[49m\u001b[43mdensity_dist_obs\u001b[49m\u001b[38;5;241;43m=\u001b[39;49m\u001b[43mdensity_dist_obs\u001b[49m\u001b[43m,\u001b[49m\n\u001b[0;32m    590\u001b[0m \u001b[43m    \u001b[49m\u001b[43m)\u001b[49m\u001b[38;5;241;43m.\u001b[39;49m\u001b[43mto_inference_data\u001b[49m\u001b[43m(\u001b[49m\u001b[43m)\u001b[49m\n",
      "File \u001b[1;32m~\\anaconda3\\lib\\site-packages\\arviz\\data\\io_pymc3_3x.py:515\u001b[0m, in \u001b[0;36mPyMC3Converter.to_inference_data\u001b[1;34m(self)\u001b[0m\n\u001b[0;32m    505\u001b[0m \u001b[38;5;28;01mdef\u001b[39;00m \u001b[38;5;21mto_inference_data\u001b[39m(\u001b[38;5;28mself\u001b[39m):\n\u001b[0;32m    506\u001b[0m     \u001b[38;5;124;03m\"\"\"Convert all available data to an InferenceData object.\u001b[39;00m\n\u001b[0;32m    507\u001b[0m \n\u001b[0;32m    508\u001b[0m \u001b[38;5;124;03m    Note that if groups can not be created (e.g., there is no `trace`, so\u001b[39;00m\n\u001b[0;32m    509\u001b[0m \u001b[38;5;124;03m    the `posterior` and `sample_stats` can not be extracted), then the InferenceData\u001b[39;00m\n\u001b[0;32m    510\u001b[0m \u001b[38;5;124;03m    will not have those groups.\u001b[39;00m\n\u001b[0;32m    511\u001b[0m \u001b[38;5;124;03m    \"\"\"\u001b[39;00m\n\u001b[0;32m    512\u001b[0m     id_dict \u001b[38;5;241m=\u001b[39m {\n\u001b[0;32m    513\u001b[0m         \u001b[38;5;124m\"\u001b[39m\u001b[38;5;124mposterior\u001b[39m\u001b[38;5;124m\"\u001b[39m: \u001b[38;5;28mself\u001b[39m\u001b[38;5;241m.\u001b[39mposterior_to_xarray(),\n\u001b[0;32m    514\u001b[0m         \u001b[38;5;124m\"\u001b[39m\u001b[38;5;124msample_stats\u001b[39m\u001b[38;5;124m\"\u001b[39m: \u001b[38;5;28mself\u001b[39m\u001b[38;5;241m.\u001b[39msample_stats_to_xarray(),\n\u001b[1;32m--> 515\u001b[0m         \u001b[38;5;124m\"\u001b[39m\u001b[38;5;124mlog_likelihood\u001b[39m\u001b[38;5;124m\"\u001b[39m: \u001b[38;5;28;43mself\u001b[39;49m\u001b[38;5;241;43m.\u001b[39;49m\u001b[43mlog_likelihood_to_xarray\u001b[49m\u001b[43m(\u001b[49m\u001b[43m)\u001b[49m,\n\u001b[0;32m    516\u001b[0m         \u001b[38;5;124m\"\u001b[39m\u001b[38;5;124mposterior_predictive\u001b[39m\u001b[38;5;124m\"\u001b[39m: \u001b[38;5;28mself\u001b[39m\u001b[38;5;241m.\u001b[39mposterior_predictive_to_xarray(),\n\u001b[0;32m    517\u001b[0m         \u001b[38;5;124m\"\u001b[39m\u001b[38;5;124mpredictions\u001b[39m\u001b[38;5;124m\"\u001b[39m: \u001b[38;5;28mself\u001b[39m\u001b[38;5;241m.\u001b[39mpredictions_to_xarray(),\n\u001b[0;32m    518\u001b[0m         \u001b[38;5;241m*\u001b[39m\u001b[38;5;241m*\u001b[39m\u001b[38;5;28mself\u001b[39m\u001b[38;5;241m.\u001b[39mpriors_to_xarray(),\n\u001b[0;32m    519\u001b[0m         \u001b[38;5;124m\"\u001b[39m\u001b[38;5;124mobserved_data\u001b[39m\u001b[38;5;124m\"\u001b[39m: \u001b[38;5;28mself\u001b[39m\u001b[38;5;241m.\u001b[39mobserved_data_to_xarray(),\n\u001b[0;32m    520\u001b[0m     }\n\u001b[0;32m    521\u001b[0m     \u001b[38;5;28;01mif\u001b[39;00m \u001b[38;5;28mself\u001b[39m\u001b[38;5;241m.\u001b[39mpredictions:\n\u001b[0;32m    522\u001b[0m         id_dict[\u001b[38;5;124m\"\u001b[39m\u001b[38;5;124mpredictions_constant_data\u001b[39m\u001b[38;5;124m\"\u001b[39m] \u001b[38;5;241m=\u001b[39m \u001b[38;5;28mself\u001b[39m\u001b[38;5;241m.\u001b[39mconstant_data_to_xarray()\n",
      "File \u001b[1;32m~\\anaconda3\\lib\\site-packages\\arviz\\data\\base.py:65\u001b[0m, in \u001b[0;36mrequires.__call__.<locals>.wrapped\u001b[1;34m(cls)\u001b[0m\n\u001b[0;32m     63\u001b[0m     \u001b[38;5;28;01mif\u001b[39;00m \u001b[38;5;28mall\u001b[39m((\u001b[38;5;28mgetattr\u001b[39m(\u001b[38;5;28mcls\u001b[39m, prop_i) \u001b[38;5;129;01mis\u001b[39;00m \u001b[38;5;28;01mNone\u001b[39;00m \u001b[38;5;28;01mfor\u001b[39;00m prop_i \u001b[38;5;129;01min\u001b[39;00m prop)):\n\u001b[0;32m     64\u001b[0m         \u001b[38;5;28;01mreturn\u001b[39;00m \u001b[38;5;28;01mNone\u001b[39;00m\n\u001b[1;32m---> 65\u001b[0m \u001b[38;5;28;01mreturn\u001b[39;00m \u001b[43mfunc\u001b[49m\u001b[43m(\u001b[49m\u001b[38;5;28;43mcls\u001b[39;49m\u001b[43m)\u001b[49m\n",
      "File \u001b[1;32m~\\anaconda3\\lib\\site-packages\\arviz\\data\\base.py:65\u001b[0m, in \u001b[0;36mrequires.__call__.<locals>.wrapped\u001b[1;34m(cls)\u001b[0m\n\u001b[0;32m     63\u001b[0m     \u001b[38;5;28;01mif\u001b[39;00m \u001b[38;5;28mall\u001b[39m((\u001b[38;5;28mgetattr\u001b[39m(\u001b[38;5;28mcls\u001b[39m, prop_i) \u001b[38;5;129;01mis\u001b[39;00m \u001b[38;5;28;01mNone\u001b[39;00m \u001b[38;5;28;01mfor\u001b[39;00m prop_i \u001b[38;5;129;01min\u001b[39;00m prop)):\n\u001b[0;32m     64\u001b[0m         \u001b[38;5;28;01mreturn\u001b[39;00m \u001b[38;5;28;01mNone\u001b[39;00m\n\u001b[1;32m---> 65\u001b[0m \u001b[38;5;28;01mreturn\u001b[39;00m \u001b[43mfunc\u001b[49m\u001b[43m(\u001b[49m\u001b[38;5;28;43mcls\u001b[39;49m\u001b[43m)\u001b[49m\n",
      "File \u001b[1;32m~\\anaconda3\\lib\\site-packages\\arviz\\data\\io_pymc3_3x.py:345\u001b[0m, in \u001b[0;36mPyMC3Converter.log_likelihood_to_xarray\u001b[1;34m(self)\u001b[0m\n\u001b[0;32m    343\u001b[0m \u001b[38;5;28;01mif\u001b[39;00m \u001b[38;5;28mself\u001b[39m\u001b[38;5;241m.\u001b[39mposterior_trace:\n\u001b[0;32m    344\u001b[0m     \u001b[38;5;28;01mtry\u001b[39;00m:\n\u001b[1;32m--> 345\u001b[0m         data \u001b[38;5;241m=\u001b[39m \u001b[38;5;28;43mself\u001b[39;49m\u001b[38;5;241;43m.\u001b[39;49m\u001b[43m_extract_log_likelihood\u001b[49m\u001b[43m(\u001b[49m\u001b[38;5;28;43mself\u001b[39;49m\u001b[38;5;241;43m.\u001b[39;49m\u001b[43mposterior_trace\u001b[49m\u001b[43m)\u001b[49m\n\u001b[0;32m    346\u001b[0m     \u001b[38;5;28;01mexcept\u001b[39;00m \u001b[38;5;167;01mTypeError\u001b[39;00m:\n\u001b[0;32m    347\u001b[0m         warnings\u001b[38;5;241m.\u001b[39mwarn(warn_msg)\n",
      "File \u001b[1;32m~\\anaconda3\\lib\\site-packages\\arviz\\data\\io_pymc3_3x.py:258\u001b[0m, in \u001b[0;36mPyMC3Converter._extract_log_likelihood\u001b[1;34m(self, trace)\u001b[0m\n\u001b[0;32m    256\u001b[0m \u001b[38;5;28;01mtry\u001b[39;00m:\n\u001b[0;32m    257\u001b[0m     \u001b[38;5;28;01mfor\u001b[39;00m k, chain \u001b[38;5;129;01min\u001b[39;00m \u001b[38;5;28menumerate\u001b[39m(trace\u001b[38;5;241m.\u001b[39mchains):\n\u001b[1;32m--> 258\u001b[0m         log_like_chain \u001b[38;5;241m=\u001b[39m [\n\u001b[0;32m    259\u001b[0m             \u001b[38;5;28mself\u001b[39m\u001b[38;5;241m.\u001b[39mlog_likelihood_vals_point(point, var, log_like_fun)\n\u001b[0;32m    260\u001b[0m             \u001b[38;5;28;01mfor\u001b[39;00m point \u001b[38;5;129;01min\u001b[39;00m trace\u001b[38;5;241m.\u001b[39mpoints([chain])\n\u001b[0;32m    261\u001b[0m         ]\n\u001b[0;32m    262\u001b[0m         log_likelihood_dict\u001b[38;5;241m.\u001b[39minsert(var\u001b[38;5;241m.\u001b[39mname, np\u001b[38;5;241m.\u001b[39mstack(log_like_chain), k)\n\u001b[0;32m    263\u001b[0m \u001b[38;5;28;01mexcept\u001b[39;00m \u001b[38;5;167;01mTypeError\u001b[39;00m \u001b[38;5;28;01mas\u001b[39;00m e:\n",
      "File \u001b[1;32m~\\anaconda3\\lib\\site-packages\\arviz\\data\\io_pymc3_3x.py:259\u001b[0m, in \u001b[0;36m<listcomp>\u001b[1;34m(.0)\u001b[0m\n\u001b[0;32m    256\u001b[0m \u001b[38;5;28;01mtry\u001b[39;00m:\n\u001b[0;32m    257\u001b[0m     \u001b[38;5;28;01mfor\u001b[39;00m k, chain \u001b[38;5;129;01min\u001b[39;00m \u001b[38;5;28menumerate\u001b[39m(trace\u001b[38;5;241m.\u001b[39mchains):\n\u001b[0;32m    258\u001b[0m         log_like_chain \u001b[38;5;241m=\u001b[39m [\n\u001b[1;32m--> 259\u001b[0m             \u001b[38;5;28;43mself\u001b[39;49m\u001b[38;5;241;43m.\u001b[39;49m\u001b[43mlog_likelihood_vals_point\u001b[49m\u001b[43m(\u001b[49m\u001b[43mpoint\u001b[49m\u001b[43m,\u001b[49m\u001b[43m \u001b[49m\u001b[43mvar\u001b[49m\u001b[43m,\u001b[49m\u001b[43m \u001b[49m\u001b[43mlog_like_fun\u001b[49m\u001b[43m)\u001b[49m\n\u001b[0;32m    260\u001b[0m             \u001b[38;5;28;01mfor\u001b[39;00m point \u001b[38;5;129;01min\u001b[39;00m trace\u001b[38;5;241m.\u001b[39mpoints([chain])\n\u001b[0;32m    261\u001b[0m         ]\n\u001b[0;32m    262\u001b[0m         log_likelihood_dict\u001b[38;5;241m.\u001b[39minsert(var\u001b[38;5;241m.\u001b[39mname, np\u001b[38;5;241m.\u001b[39mstack(log_like_chain), k)\n\u001b[0;32m    263\u001b[0m \u001b[38;5;28;01mexcept\u001b[39;00m \u001b[38;5;167;01mTypeError\u001b[39;00m \u001b[38;5;28;01mas\u001b[39;00m e:\n",
      "File \u001b[1;32m~\\anaconda3\\lib\\site-packages\\arviz\\data\\io_pymc3_3x.py:219\u001b[0m, in \u001b[0;36mPyMC3Converter.log_likelihood_vals_point\u001b[1;34m(self, point, var, log_like_fun)\u001b[0m\n\u001b[0;32m    217\u001b[0m \u001b[38;5;28;01mdef\u001b[39;00m \u001b[38;5;21mlog_likelihood_vals_point\u001b[39m(\u001b[38;5;28mself\u001b[39m, point, var, log_like_fun):\n\u001b[0;32m    218\u001b[0m     \u001b[38;5;124;03m\"\"\"Compute log likelihood for each observed point.\"\"\"\u001b[39;00m\n\u001b[1;32m--> 219\u001b[0m     log_like_val \u001b[38;5;241m=\u001b[39m utils\u001b[38;5;241m.\u001b[39mone_de(\u001b[43mlog_like_fun\u001b[49m\u001b[43m(\u001b[49m\u001b[43mpoint\u001b[49m\u001b[43m)\u001b[49m)\n\u001b[0;32m    220\u001b[0m     \u001b[38;5;28;01mif\u001b[39;00m var\u001b[38;5;241m.\u001b[39mmissing_values:\n\u001b[0;32m    221\u001b[0m         mask \u001b[38;5;241m=\u001b[39m var\u001b[38;5;241m.\u001b[39mobservations\u001b[38;5;241m.\u001b[39mmask\n",
      "File \u001b[1;32m~\\anaconda3\\lib\\site-packages\\pymc3\\model.py:1561\u001b[0m, in \u001b[0;36mLoosePointFunc.__call__\u001b[1;34m(self, *args, **kwargs)\u001b[0m\n\u001b[0;32m   1559\u001b[0m \u001b[38;5;28;01mdef\u001b[39;00m \u001b[38;5;21m__call__\u001b[39m(\u001b[38;5;28mself\u001b[39m, \u001b[38;5;241m*\u001b[39margs, \u001b[38;5;241m*\u001b[39m\u001b[38;5;241m*\u001b[39mkwargs):\n\u001b[0;32m   1560\u001b[0m     point \u001b[38;5;241m=\u001b[39m Point(model\u001b[38;5;241m=\u001b[39m\u001b[38;5;28mself\u001b[39m\u001b[38;5;241m.\u001b[39mmodel, \u001b[38;5;241m*\u001b[39margs, \u001b[38;5;241m*\u001b[39m\u001b[38;5;241m*\u001b[39mkwargs)\n\u001b[1;32m-> 1561\u001b[0m     \u001b[38;5;28;01mreturn\u001b[39;00m \u001b[38;5;28mself\u001b[39m\u001b[38;5;241m.\u001b[39mf(\u001b[38;5;241m*\u001b[39m\u001b[38;5;241m*\u001b[39mpoint)\n",
      "File \u001b[1;32m~\\anaconda3\\lib\\site-packages\\theano\\compile\\function\\types.py:974\u001b[0m, in \u001b[0;36mFunction.__call__\u001b[1;34m(self, *args, **kwargs)\u001b[0m\n\u001b[0;32m    971\u001b[0m t0_fn \u001b[38;5;241m=\u001b[39m time\u001b[38;5;241m.\u001b[39mtime()\n\u001b[0;32m    972\u001b[0m \u001b[38;5;28;01mtry\u001b[39;00m:\n\u001b[0;32m    973\u001b[0m     outputs \u001b[38;5;241m=\u001b[39m (\n\u001b[1;32m--> 974\u001b[0m         \u001b[38;5;28;43mself\u001b[39;49m\u001b[38;5;241;43m.\u001b[39;49m\u001b[43mfn\u001b[49m\u001b[43m(\u001b[49m\u001b[43m)\u001b[49m\n\u001b[0;32m    975\u001b[0m         \u001b[38;5;28;01mif\u001b[39;00m output_subset \u001b[38;5;129;01mis\u001b[39;00m \u001b[38;5;28;01mNone\u001b[39;00m\n\u001b[0;32m    976\u001b[0m         \u001b[38;5;28;01melse\u001b[39;00m \u001b[38;5;28mself\u001b[39m\u001b[38;5;241m.\u001b[39mfn(output_subset\u001b[38;5;241m=\u001b[39moutput_subset)\n\u001b[0;32m    977\u001b[0m     )\n\u001b[0;32m    978\u001b[0m \u001b[38;5;28;01mexcept\u001b[39;00m \u001b[38;5;167;01mException\u001b[39;00m:\n\u001b[0;32m    979\u001b[0m     restore_defaults()\n",
      "File \u001b[1;32m~\\anaconda3\\lib\\site-packages\\theano\\link\\vm.py:313\u001b[0m, in \u001b[0;36mLoopGC.__call__\u001b[1;34m(self)\u001b[0m\n\u001b[0;32m    309\u001b[0m \u001b[38;5;28;01mtry\u001b[39;00m:\n\u001b[0;32m    310\u001b[0m     \u001b[38;5;28;01mfor\u001b[39;00m thunk, node, old_storage \u001b[38;5;129;01min\u001b[39;00m \u001b[38;5;28mzip\u001b[39m(\n\u001b[0;32m    311\u001b[0m         \u001b[38;5;28mself\u001b[39m\u001b[38;5;241m.\u001b[39mthunks, \u001b[38;5;28mself\u001b[39m\u001b[38;5;241m.\u001b[39mnodes, \u001b[38;5;28mself\u001b[39m\u001b[38;5;241m.\u001b[39mpost_thunk_clear\n\u001b[0;32m    312\u001b[0m     ):\n\u001b[1;32m--> 313\u001b[0m         \u001b[43mthunk\u001b[49m\u001b[43m(\u001b[49m\u001b[43m)\u001b[49m\n\u001b[0;32m    314\u001b[0m         \u001b[38;5;28;01mfor\u001b[39;00m old_s \u001b[38;5;129;01min\u001b[39;00m old_storage:\n\u001b[0;32m    315\u001b[0m             old_s[\u001b[38;5;241m0\u001b[39m] \u001b[38;5;241m=\u001b[39m \u001b[38;5;28;01mNone\u001b[39;00m\n",
      "File \u001b[1;32m~\\anaconda3\\lib\\site-packages\\theano\\graph\\op.py:476\u001b[0m, in \u001b[0;36mOp.make_py_thunk.<locals>.rval\u001b[1;34m(p, i, o, n)\u001b[0m\n\u001b[0;32m    475\u001b[0m \u001b[38;5;28;01mdef\u001b[39;00m \u001b[38;5;21mrval\u001b[39m(p\u001b[38;5;241m=\u001b[39mp, i\u001b[38;5;241m=\u001b[39mnode_input_storage, o\u001b[38;5;241m=\u001b[39mnode_output_storage, n\u001b[38;5;241m=\u001b[39mnode):\n\u001b[1;32m--> 476\u001b[0m     r \u001b[38;5;241m=\u001b[39m \u001b[43mp\u001b[49m\u001b[43m(\u001b[49m\u001b[43mn\u001b[49m\u001b[43m,\u001b[49m\u001b[43m \u001b[49m\u001b[43m[\u001b[49m\u001b[43mx\u001b[49m\u001b[43m[\u001b[49m\u001b[38;5;241;43m0\u001b[39;49m\u001b[43m]\u001b[49m\u001b[43m \u001b[49m\u001b[38;5;28;43;01mfor\u001b[39;49;00m\u001b[43m \u001b[49m\u001b[43mx\u001b[49m\u001b[43m \u001b[49m\u001b[38;5;129;43;01min\u001b[39;49;00m\u001b[43m \u001b[49m\u001b[43mi\u001b[49m\u001b[43m]\u001b[49m\u001b[43m,\u001b[49m\u001b[43m \u001b[49m\u001b[43mo\u001b[49m\u001b[43m)\u001b[49m\n\u001b[0;32m    477\u001b[0m     \u001b[38;5;28;01mfor\u001b[39;00m o \u001b[38;5;129;01min\u001b[39;00m node\u001b[38;5;241m.\u001b[39moutputs:\n\u001b[0;32m    478\u001b[0m         compute_map[o][\u001b[38;5;241m0\u001b[39m] \u001b[38;5;241m=\u001b[39m \u001b[38;5;28;01mTrue\u001b[39;00m\n",
      "File \u001b[1;32m~\\anaconda3\\lib\\site-packages\\theano\\tensor\\elemwise.py:826\u001b[0m, in \u001b[0;36mElemwise.perform\u001b[1;34m(self, node, inputs, output_storage)\u001b[0m\n\u001b[0;32m    822\u001b[0m         ufunc \u001b[38;5;241m=\u001b[39m node\u001b[38;5;241m.\u001b[39mtag\u001b[38;5;241m.\u001b[39mufunc\n\u001b[0;32m    824\u001b[0m     nout \u001b[38;5;241m=\u001b[39m ufunc\u001b[38;5;241m.\u001b[39mnout\n\u001b[1;32m--> 826\u001b[0m variables \u001b[38;5;241m=\u001b[39m ufunc(\u001b[38;5;241m*\u001b[39mufunc_args, \u001b[38;5;241m*\u001b[39m\u001b[38;5;241m*\u001b[39mufunc_kwargs)\n\u001b[0;32m    828\u001b[0m \u001b[38;5;28;01mif\u001b[39;00m nout \u001b[38;5;241m==\u001b[39m \u001b[38;5;241m1\u001b[39m:\n\u001b[0;32m    829\u001b[0m     variables \u001b[38;5;241m=\u001b[39m [variables]\n",
      "File \u001b[1;32m~\\anaconda3\\lib\\site-packages\\theano\\scalar\\basic.py:4217\u001b[0m, in \u001b[0;36mComposite.impl\u001b[1;34m(self, *inputs)\u001b[0m\n\u001b[0;32m   4215\u001b[0m \u001b[38;5;28;01mdef\u001b[39;00m \u001b[38;5;21mimpl\u001b[39m(\u001b[38;5;28mself\u001b[39m, \u001b[38;5;241m*\u001b[39minputs):\n\u001b[0;32m   4216\u001b[0m     output_storage \u001b[38;5;241m=\u001b[39m [[\u001b[38;5;28;01mNone\u001b[39;00m] \u001b[38;5;28;01mfor\u001b[39;00m i \u001b[38;5;129;01min\u001b[39;00m \u001b[38;5;28mrange\u001b[39m(\u001b[38;5;28mself\u001b[39m\u001b[38;5;241m.\u001b[39mnout)]\n\u001b[1;32m-> 4217\u001b[0m     \u001b[38;5;28;43mself\u001b[39;49m\u001b[38;5;241;43m.\u001b[39;49m\u001b[43mperform\u001b[49m\u001b[43m(\u001b[49m\u001b[38;5;28;43;01mNone\u001b[39;49;00m\u001b[43m,\u001b[49m\u001b[43m \u001b[49m\u001b[43minputs\u001b[49m\u001b[43m,\u001b[49m\u001b[43m \u001b[49m\u001b[43moutput_storage\u001b[49m\u001b[43m)\u001b[49m\n\u001b[0;32m   4218\u001b[0m     ret \u001b[38;5;241m=\u001b[39m to_return_values([storage[\u001b[38;5;241m0\u001b[39m] \u001b[38;5;28;01mfor\u001b[39;00m storage \u001b[38;5;129;01min\u001b[39;00m output_storage])\n\u001b[0;32m   4219\u001b[0m     \u001b[38;5;28;01mif\u001b[39;00m \u001b[38;5;28mself\u001b[39m\u001b[38;5;241m.\u001b[39mnout \u001b[38;5;241m>\u001b[39m \u001b[38;5;241m1\u001b[39m:\n",
      "File \u001b[1;32m~\\anaconda3\\lib\\site-packages\\theano\\scalar\\basic.py:4213\u001b[0m, in \u001b[0;36mComposite.perform\u001b[1;34m(self, node, inputs, output_storage)\u001b[0m\n\u001b[0;32m   4211\u001b[0m \u001b[38;5;28;01mdef\u001b[39;00m \u001b[38;5;21mperform\u001b[39m(\u001b[38;5;28mself\u001b[39m, node, inputs, output_storage):\n\u001b[0;32m   4212\u001b[0m     \u001b[38;5;28;01mfor\u001b[39;00m storage, impl \u001b[38;5;129;01min\u001b[39;00m \u001b[38;5;28mzip\u001b[39m(output_storage, \u001b[38;5;28mself\u001b[39m\u001b[38;5;241m.\u001b[39m_impls):\n\u001b[1;32m-> 4213\u001b[0m         storage[\u001b[38;5;241m0\u001b[39m] \u001b[38;5;241m=\u001b[39m \u001b[43mimpl\u001b[49m\u001b[43m(\u001b[49m\u001b[43minputs\u001b[49m\u001b[43m)\u001b[49m\n",
      "File \u001b[1;32m~\\anaconda3\\lib\\site-packages\\theano\\scalar\\basic.py:4083\u001b[0m, in \u001b[0;36mComposite.init_py_impls.<locals>.compose_impl.<locals>.f\u001b[1;34m(inputs)\u001b[0m\n\u001b[0;32m   4082\u001b[0m \u001b[38;5;28;01mdef\u001b[39;00m \u001b[38;5;21mf\u001b[39m(inputs):\n\u001b[1;32m-> 4083\u001b[0m     \u001b[38;5;28;01mreturn\u001b[39;00m node\u001b[38;5;241m.\u001b[39mop\u001b[38;5;241m.\u001b[39mimpl(\u001b[38;5;241m*\u001b[39m[p(inputs) \u001b[38;5;28;01mfor\u001b[39;00m p \u001b[38;5;129;01min\u001b[39;00m producers])\n",
      "File \u001b[1;32m~\\anaconda3\\lib\\site-packages\\theano\\scalar\\basic.py:4083\u001b[0m, in \u001b[0;36m<listcomp>\u001b[1;34m(.0)\u001b[0m\n\u001b[0;32m   4082\u001b[0m \u001b[38;5;28;01mdef\u001b[39;00m \u001b[38;5;21mf\u001b[39m(inputs):\n\u001b[1;32m-> 4083\u001b[0m     \u001b[38;5;28;01mreturn\u001b[39;00m node\u001b[38;5;241m.\u001b[39mop\u001b[38;5;241m.\u001b[39mimpl(\u001b[38;5;241m*\u001b[39m[\u001b[43mp\u001b[49m\u001b[43m(\u001b[49m\u001b[43minputs\u001b[49m\u001b[43m)\u001b[49m \u001b[38;5;28;01mfor\u001b[39;00m p \u001b[38;5;129;01min\u001b[39;00m producers])\n",
      "File \u001b[1;32m~\\anaconda3\\lib\\site-packages\\theano\\scalar\\basic.py:4083\u001b[0m, in \u001b[0;36mComposite.init_py_impls.<locals>.compose_impl.<locals>.f\u001b[1;34m(inputs)\u001b[0m\n\u001b[0;32m   4082\u001b[0m \u001b[38;5;28;01mdef\u001b[39;00m \u001b[38;5;21mf\u001b[39m(inputs):\n\u001b[1;32m-> 4083\u001b[0m     \u001b[38;5;28;01mreturn\u001b[39;00m node\u001b[38;5;241m.\u001b[39mop\u001b[38;5;241m.\u001b[39mimpl(\u001b[38;5;241m*\u001b[39m[p(inputs) \u001b[38;5;28;01mfor\u001b[39;00m p \u001b[38;5;129;01min\u001b[39;00m producers])\n",
      "File \u001b[1;32m~\\anaconda3\\lib\\site-packages\\theano\\scalar\\basic.py:4083\u001b[0m, in \u001b[0;36m<listcomp>\u001b[1;34m(.0)\u001b[0m\n\u001b[0;32m   4082\u001b[0m \u001b[38;5;28;01mdef\u001b[39;00m \u001b[38;5;21mf\u001b[39m(inputs):\n\u001b[1;32m-> 4083\u001b[0m     \u001b[38;5;28;01mreturn\u001b[39;00m node\u001b[38;5;241m.\u001b[39mop\u001b[38;5;241m.\u001b[39mimpl(\u001b[38;5;241m*\u001b[39m[\u001b[43mp\u001b[49m\u001b[43m(\u001b[49m\u001b[43minputs\u001b[49m\u001b[43m)\u001b[49m \u001b[38;5;28;01mfor\u001b[39;00m p \u001b[38;5;129;01min\u001b[39;00m producers])\n",
      "File \u001b[1;32m~\\anaconda3\\lib\\site-packages\\theano\\scalar\\basic.py:4083\u001b[0m, in \u001b[0;36mComposite.init_py_impls.<locals>.compose_impl.<locals>.f\u001b[1;34m(inputs)\u001b[0m\n\u001b[0;32m   4082\u001b[0m \u001b[38;5;28;01mdef\u001b[39;00m \u001b[38;5;21mf\u001b[39m(inputs):\n\u001b[1;32m-> 4083\u001b[0m     \u001b[38;5;28;01mreturn\u001b[39;00m node\u001b[38;5;241m.\u001b[39mop\u001b[38;5;241m.\u001b[39mimpl(\u001b[38;5;241m*\u001b[39m[p(inputs) \u001b[38;5;28;01mfor\u001b[39;00m p \u001b[38;5;129;01min\u001b[39;00m producers])\n",
      "File \u001b[1;32m~\\anaconda3\\lib\\site-packages\\theano\\scalar\\basic.py:4083\u001b[0m, in \u001b[0;36m<listcomp>\u001b[1;34m(.0)\u001b[0m\n\u001b[0;32m   4082\u001b[0m \u001b[38;5;28;01mdef\u001b[39;00m \u001b[38;5;21mf\u001b[39m(inputs):\n\u001b[1;32m-> 4083\u001b[0m     \u001b[38;5;28;01mreturn\u001b[39;00m node\u001b[38;5;241m.\u001b[39mop\u001b[38;5;241m.\u001b[39mimpl(\u001b[38;5;241m*\u001b[39m[\u001b[43mp\u001b[49m\u001b[43m(\u001b[49m\u001b[43minputs\u001b[49m\u001b[43m)\u001b[49m \u001b[38;5;28;01mfor\u001b[39;00m p \u001b[38;5;129;01min\u001b[39;00m producers])\n",
      "File \u001b[1;32m~\\anaconda3\\lib\\site-packages\\theano\\scalar\\basic.py:4083\u001b[0m, in \u001b[0;36mComposite.init_py_impls.<locals>.compose_impl.<locals>.f\u001b[1;34m(inputs)\u001b[0m\n\u001b[0;32m   4082\u001b[0m \u001b[38;5;28;01mdef\u001b[39;00m \u001b[38;5;21mf\u001b[39m(inputs):\n\u001b[1;32m-> 4083\u001b[0m     \u001b[38;5;28;01mreturn\u001b[39;00m \u001b[43mnode\u001b[49m\u001b[38;5;241;43m.\u001b[39;49m\u001b[43mop\u001b[49m\u001b[38;5;241;43m.\u001b[39;49m\u001b[43mimpl\u001b[49m\u001b[43m(\u001b[49m\u001b[38;5;241;43m*\u001b[39;49m\u001b[43m[\u001b[49m\u001b[43mp\u001b[49m\u001b[43m(\u001b[49m\u001b[43minputs\u001b[49m\u001b[43m)\u001b[49m\u001b[43m \u001b[49m\u001b[38;5;28;43;01mfor\u001b[39;49;00m\u001b[43m \u001b[49m\u001b[43mp\u001b[49m\u001b[43m \u001b[49m\u001b[38;5;129;43;01min\u001b[39;49;00m\u001b[43m \u001b[49m\u001b[43mproducers\u001b[49m\u001b[43m]\u001b[49m\u001b[43m)\u001b[49m\n",
      "File \u001b[1;32m~\\anaconda3\\lib\\site-packages\\theano\\scalar\\basic.py:1855\u001b[0m, in \u001b[0;36mMul.impl\u001b[1;34m(self, *inputs)\u001b[0m\n\u001b[0;32m   1854\u001b[0m \u001b[38;5;28;01mdef\u001b[39;00m \u001b[38;5;21mimpl\u001b[39m(\u001b[38;5;28mself\u001b[39m, \u001b[38;5;241m*\u001b[39minputs):\n\u001b[1;32m-> 1855\u001b[0m     \u001b[38;5;28;01mreturn\u001b[39;00m \u001b[43mnp\u001b[49m\u001b[38;5;241;43m.\u001b[39;49m\u001b[43mproduct\u001b[49m\u001b[43m(\u001b[49m\u001b[43minputs\u001b[49m\u001b[43m)\u001b[49m\n",
      "File \u001b[1;32m<__array_function__ internals>:5\u001b[0m, in \u001b[0;36mproduct\u001b[1;34m(*args, **kwargs)\u001b[0m\n",
      "File \u001b[1;32m~\\anaconda3\\lib\\site-packages\\numpy\\core\\fromnumeric.py:3751\u001b[0m, in \u001b[0;36mproduct\u001b[1;34m(*args, **kwargs)\u001b[0m\n\u001b[0;32m   3742\u001b[0m \u001b[38;5;129m@array_function_dispatch\u001b[39m(_prod_dispatcher, verify\u001b[38;5;241m=\u001b[39m\u001b[38;5;28;01mFalse\u001b[39;00m)\n\u001b[0;32m   3743\u001b[0m \u001b[38;5;28;01mdef\u001b[39;00m \u001b[38;5;21mproduct\u001b[39m(\u001b[38;5;241m*\u001b[39margs, \u001b[38;5;241m*\u001b[39m\u001b[38;5;241m*\u001b[39mkwargs):\n\u001b[0;32m   3744\u001b[0m     \u001b[38;5;124;03m\"\"\"\u001b[39;00m\n\u001b[0;32m   3745\u001b[0m \u001b[38;5;124;03m    Return the product of array elements over a given axis.\u001b[39;00m\n\u001b[0;32m   3746\u001b[0m \n\u001b[1;32m   (...)\u001b[0m\n\u001b[0;32m   3749\u001b[0m \u001b[38;5;124;03m    prod : equivalent function; see for details.\u001b[39;00m\n\u001b[0;32m   3750\u001b[0m \u001b[38;5;124;03m    \"\"\"\u001b[39;00m\n\u001b[1;32m-> 3751\u001b[0m     \u001b[38;5;28;01mreturn\u001b[39;00m prod(\u001b[38;5;241m*\u001b[39margs, \u001b[38;5;241m*\u001b[39m\u001b[38;5;241m*\u001b[39mkwargs)\n",
      "File \u001b[1;32m<__array_function__ internals>:5\u001b[0m, in \u001b[0;36mprod\u001b[1;34m(*args, **kwargs)\u001b[0m\n",
      "File \u001b[1;32m~\\anaconda3\\lib\\site-packages\\numpy\\core\\fromnumeric.py:3051\u001b[0m, in \u001b[0;36mprod\u001b[1;34m(a, axis, dtype, out, keepdims, initial, where)\u001b[0m\n\u001b[0;32m   2933\u001b[0m \u001b[38;5;129m@array_function_dispatch\u001b[39m(_prod_dispatcher)\n\u001b[0;32m   2934\u001b[0m \u001b[38;5;28;01mdef\u001b[39;00m \u001b[38;5;21mprod\u001b[39m(a, axis\u001b[38;5;241m=\u001b[39m\u001b[38;5;28;01mNone\u001b[39;00m, dtype\u001b[38;5;241m=\u001b[39m\u001b[38;5;28;01mNone\u001b[39;00m, out\u001b[38;5;241m=\u001b[39m\u001b[38;5;28;01mNone\u001b[39;00m, keepdims\u001b[38;5;241m=\u001b[39mnp\u001b[38;5;241m.\u001b[39m_NoValue,\n\u001b[0;32m   2935\u001b[0m          initial\u001b[38;5;241m=\u001b[39mnp\u001b[38;5;241m.\u001b[39m_NoValue, where\u001b[38;5;241m=\u001b[39mnp\u001b[38;5;241m.\u001b[39m_NoValue):\n\u001b[0;32m   2936\u001b[0m     \u001b[38;5;124;03m\"\"\"\u001b[39;00m\n\u001b[0;32m   2937\u001b[0m \u001b[38;5;124;03m    Return the product of array elements over a given axis.\u001b[39;00m\n\u001b[0;32m   2938\u001b[0m \n\u001b[1;32m   (...)\u001b[0m\n\u001b[0;32m   3049\u001b[0m \u001b[38;5;124;03m    10\u001b[39;00m\n\u001b[0;32m   3050\u001b[0m \u001b[38;5;124;03m    \"\"\"\u001b[39;00m\n\u001b[1;32m-> 3051\u001b[0m     \u001b[38;5;28;01mreturn\u001b[39;00m \u001b[43m_wrapreduction\u001b[49m\u001b[43m(\u001b[49m\u001b[43ma\u001b[49m\u001b[43m,\u001b[49m\u001b[43m \u001b[49m\u001b[43mnp\u001b[49m\u001b[38;5;241;43m.\u001b[39;49m\u001b[43mmultiply\u001b[49m\u001b[43m,\u001b[49m\u001b[43m \u001b[49m\u001b[38;5;124;43m'\u001b[39;49m\u001b[38;5;124;43mprod\u001b[39;49m\u001b[38;5;124;43m'\u001b[39;49m\u001b[43m,\u001b[49m\u001b[43m \u001b[49m\u001b[43maxis\u001b[49m\u001b[43m,\u001b[49m\u001b[43m \u001b[49m\u001b[43mdtype\u001b[49m\u001b[43m,\u001b[49m\u001b[43m \u001b[49m\u001b[43mout\u001b[49m\u001b[43m,\u001b[49m\n\u001b[0;32m   3052\u001b[0m \u001b[43m                          \u001b[49m\u001b[43mkeepdims\u001b[49m\u001b[38;5;241;43m=\u001b[39;49m\u001b[43mkeepdims\u001b[49m\u001b[43m,\u001b[49m\u001b[43m \u001b[49m\u001b[43minitial\u001b[49m\u001b[38;5;241;43m=\u001b[39;49m\u001b[43minitial\u001b[49m\u001b[43m,\u001b[49m\u001b[43m \u001b[49m\u001b[43mwhere\u001b[49m\u001b[38;5;241;43m=\u001b[39;49m\u001b[43mwhere\u001b[49m\u001b[43m)\u001b[49m\n",
      "File \u001b[1;32m~\\anaconda3\\lib\\site-packages\\numpy\\core\\fromnumeric.py:86\u001b[0m, in \u001b[0;36m_wrapreduction\u001b[1;34m(obj, ufunc, method, axis, dtype, out, **kwargs)\u001b[0m\n\u001b[0;32m     83\u001b[0m         \u001b[38;5;28;01melse\u001b[39;00m:\n\u001b[0;32m     84\u001b[0m             \u001b[38;5;28;01mreturn\u001b[39;00m reduction(axis\u001b[38;5;241m=\u001b[39maxis, out\u001b[38;5;241m=\u001b[39mout, \u001b[38;5;241m*\u001b[39m\u001b[38;5;241m*\u001b[39mpasskwargs)\n\u001b[1;32m---> 86\u001b[0m \u001b[38;5;28;01mreturn\u001b[39;00m ufunc\u001b[38;5;241m.\u001b[39mreduce(obj, axis, dtype, out, \u001b[38;5;241m*\u001b[39m\u001b[38;5;241m*\u001b[39mpasskwargs)\n",
      "\u001b[1;31mKeyboardInterrupt\u001b[0m: "
     ]
    }
   ],
   "source": [
    "# B.5.4 Significance Tests Comparing Means\n",
    "\n",
    "# continue analysis from Section B.4.4 with Anor data file\n",
    "# (required are the variables: cogbehav, control )\n",
    "\n",
    "from scipy import stats\n",
    "stats.ttest_ind(cogbehav, control, equal_var = True)\n",
    "\n",
    "# Ttest_indResult(statistic=1.6759971256, pvalue=0.09962901351)\n",
    "stats.ttest_ind(cogbehav, control, equal_var = False)\n",
    "\n",
    "# Ttest_indResult(statistic=1.667749692, pvalue=0.1014985957)\n",
    "\n",
    "import statsmodels.formula.api as sm\n",
    "Anor2 = Anor.loc[Anor['therapy'] != 'f']\n",
    "change = Anor2['after'] - Anor2['before']; Anor2['change']=change\n",
    "mod = sm.ols(formula='change ~ C(therapy)', data=Anor2).fit()\n",
    "print(mod.summary())\n",
    "\n",
    "from sklearn.preprocessing import LabelEncoder\n",
    "LE = LabelEncoder()\n",
    "Anor2['x'] = LE.fit_transform(Anor2['therapy'])\n",
    "x = np.array(Anor2['x']) # x=0 controls (c), x=1 therapy (cb)\n",
    "\n",
    "from pymc3 import *\n",
    "data = dict(x = x, y = change)\n",
    "B0=10**(-8)\n",
    "with Model() as model:\n",
    "    # define very disperse prior distributions\n",
    "    sigma = InverseGamma ('sigma', B0, B0, testval=1.)\n",
    "    intercept = Normal('Intercept', 0, sigma = 1/B0)\n",
    "    x_coeff = Normal('x', 0, sigma = 1/B0)\n",
    "    # define likelihood function for normal response variable\n",
    "    likelihood = Normal('y', mu = intercept + x_coeff * x,\n",
    "                        sigma = sigma, observed = change)\n",
    "    fit = sample(50000, cores=2) # posterior samples\n",
    "\n",
    "summary(fit)\n",
    "\n",
    "np.mean(fit['x'] < 0)\n",
    "\n",
    "\n",
    "\n"
   ]
  },
  {
   "cell_type": "code",
   "execution_count": 45,
   "id": "06d44c70",
   "metadata": {},
   "outputs": [
    {
     "data": {
      "text/plain": [
       "0.9780634871667954"
      ]
     },
     "execution_count": 45,
     "metadata": {},
     "output_type": "execute_result"
    }
   ],
   "source": [
    "# B.5.5 The Power of a Significance Test\n",
    "\n",
    "import numpy as np\n",
    "from statsmodels.stats.power import normal_power\n",
    "normal_power(2*(np.arcsin(np.sqrt(0.5))-np.arcsin(np.sqrt(1/3))), 116, 0.05,\n",
    "alternative = 'larger', sigma = 1.)\n"
   ]
  },
  {
   "cell_type": "code",
   "execution_count": 47,
   "id": "2a2d74b1",
   "metadata": {},
   "outputs": [
    {
     "name": "stdout",
     "output_type": "stream",
     "text": [
      "0.007575757575757576\n",
      "0.003787878787878788\n",
      "43.0 0.00874125874125874\n"
     ]
    }
   ],
   "source": [
    "# B.5.6 Nonparametric Statistics: Permutation Test and Wilcoxon Test\n",
    "\n",
    "from mlxtend.evaluate import permutation_test\n",
    "data1 = [114, 203, 217, 254, 256, 284, 296] # petting observations\n",
    "data2 = [4, 7, 24, 25, 48, 71, 294] # praise observations\n",
    "p_value = permutation_test(data1, data2)\n",
    "print(p_value)\n",
    "\n",
    "p_value = permutation_test(data1, data2, func='x_mean > y_mean')\n",
    "print(p_value)\n",
    "\n",
    "from scipy.stats import mannwhitneyu\n",
    "stat, p = mannwhitneyu(data1, data2, use_continuity = False,\n",
    "alternative = 'greater')\n",
    "\n",
    "print(stat,p) # approximate, based on large-sample distribution"
   ]
  },
  {
   "cell_type": "code",
   "execution_count": 50,
   "id": "d0e7e5fd",
   "metadata": {},
   "outputs": [
    {
     "data": {
      "text/html": [
       "<div>\n",
       "<style scoped>\n",
       "    .dataframe tbody tr th:only-of-type {\n",
       "        vertical-align: middle;\n",
       "    }\n",
       "\n",
       "    .dataframe tbody tr th {\n",
       "        vertical-align: top;\n",
       "    }\n",
       "\n",
       "    .dataframe thead th {\n",
       "        text-align: right;\n",
       "    }\n",
       "</style>\n",
       "<table border=\"1\" class=\"dataframe\">\n",
       "  <tbody>\n",
       "    <tr>\n",
       "      <th>t_0</th>\n",
       "      <td>-1</td>\n",
       "    </tr>\n",
       "    <tr>\n",
       "      <th>null_distribution</th>\n",
       "      <td>chi squared</td>\n",
       "    </tr>\n",
       "    <tr>\n",
       "      <th>degrees_of_freedom</th>\n",
       "      <td>1</td>\n",
       "    </tr>\n",
       "    <tr>\n",
       "      <th>test_name</th>\n",
       "      <td>logrank_test</td>\n",
       "    </tr>\n",
       "  </tbody>\n",
       "</table>\n",
       "</div><table border=\"1\" class=\"dataframe\">\n",
       "  <thead>\n",
       "    <tr style=\"text-align: right;\">\n",
       "      <th></th>\n",
       "      <th>test_statistic</th>\n",
       "      <th>p</th>\n",
       "      <th>-log2(p)</th>\n",
       "    </tr>\n",
       "  </thead>\n",
       "  <tbody>\n",
       "    <tr>\n",
       "      <th>0</th>\n",
       "      <td>6.25</td>\n",
       "      <td>0.01</td>\n",
       "      <td>6.33</td>\n",
       "    </tr>\n",
       "  </tbody>\n",
       "</table>"
      ],
      "text/latex": [
       "\\begin{tabular}{lrrr}\n",
       " & test_statistic & p & -log2(p) \\\\\n",
       "0 & 6.25 & 0.01 & 6.33 \\\\\n",
       "\\end{tabular}\n"
      ],
      "text/plain": [
       "<lifelines.StatisticalResult: logrank_test>\n",
       "               t_0 = -1\n",
       " null_distribution = chi squared\n",
       "degrees_of_freedom = 1\n",
       "         test_name = logrank_test\n",
       "\n",
       "---\n",
       " test_statistic    p  -log2(p)\n",
       "           6.25 0.01      6.33"
      ]
     },
     "metadata": {},
     "output_type": "display_data"
    },
    {
     "data": {
      "image/png": "[encoded data removed]",
      "text/plain": [
       "<Figure size 432x288 with 1 Axes>"
      ]
     },
     "metadata": {
      "needs_background": "light"
     },
     "output_type": "display_data"
    }
   ],
   "source": [
    "# B.5.7 Kaplan-Meier Estimation of Survival Functions\n",
    "\n",
    "import pandas as pd\n",
    "Survival=pd.read_csv('http://stat4ds.rwth-aachen.de/data/Survival.dat',sep='\\s+')\n",
    "\n",
    "import numpy as np\n",
    "import pandas as pd\n",
    "from lifelines import KaplanMeierFitter\n",
    "kmf1 = KaplanMeierFitter() # creates class to create an object\n",
    "kmf2 = KaplanMeierFitter()\n",
    "groups = Survival['group']\n",
    "i1 = (groups == 1) # group i1: drug\n",
    "i2 = (groups == 0) # group i2: control\n",
    "T = Survival['time']\n",
    "E = Survival['status'] # Event occured (=1)\n",
    "kmf1.fit(T[i1], E[i1], label='drug') # fits model for 1st group\n",
    "a1 = kmf1.plot(ci_show=False)\n",
    "a1.set_ylabel('Estimated P(survival)')\n",
    "kmf2.fit(T[i2], E[i2], label='control') # fits model for 2nd group\n",
    "a2 = kmf2.plot(ax=a1,ci_show=False)\n",
    "a2.set_xlabel('Time')\n",
    "\n",
    "from lifelines.statistics import logrank_test\n",
    "results = logrank_test(T[i1],T[i2],event_observed_A=E[i1],event_observed_B=E[i2])\n",
    "results.print_summary()\n",
    "\n",
    "\n"
   ]
  },
  {
   "cell_type": "code",
   "execution_count": 51,
   "id": "ccd99cc3",
   "metadata": {},
   "outputs": [
    {
     "name": "stdout",
     "output_type": "stream",
     "text": [
      "Requirement already satisfied: lifelines in c:\\users\\lut lat aung\\anaconda3\\lib\\site-packages (0.27.3)\n",
      "Requirement already satisfied: autograd-gamma>=0.3 in c:\\users\\lut lat aung\\anaconda3\\lib\\site-packages (from lifelines) (0.5.0)\n",
      "Requirement already satisfied: formulaic>=0.2.2 in c:\\users\\lut lat aung\\anaconda3\\lib\\site-packages (from lifelines) (0.5.2)\n",
      "Requirement already satisfied: scipy>=1.2.0 in c:\\users\\lut lat aung\\anaconda3\\lib\\site-packages (from lifelines) (1.7.3)\n",
      "Requirement already satisfied: numpy>=1.14.0 in c:\\users\\lut lat aung\\anaconda3\\lib\\site-packages (from lifelines) (1.21.5)\n",
      "Requirement already satisfied: autograd>=1.3 in c:\\users\\lut lat aung\\anaconda3\\lib\\site-packages (from lifelines) (1.5)\n",
      "Requirement already satisfied: pandas>=1.0.0 in c:\\users\\lut lat aung\\anaconda3\\lib\\site-packages (from lifelines) (1.4.2)\n",
      "Requirement already satisfied: matplotlib>=3.0 in c:\\users\\lut lat aung\\anaconda3\\lib\\site-packages (from lifelines) (3.5.1)\n",
      "Requirement already satisfied: future>=0.15.2 in c:\\users\\lut lat aung\\anaconda3\\lib\\site-packages (from autograd>=1.3->lifelines) (0.18.2)\n",
      "Requirement already satisfied: typing-extensions>=4.2.0 in c:\\users\\lut lat aung\\anaconda3\\lib\\site-packages (from formulaic>=0.2.2->lifelines) (4.3.0)\n",
      "Requirement already satisfied: interface-meta>=1.2.0 in c:\\users\\lut lat aung\\anaconda3\\lib\\site-packages (from formulaic>=0.2.2->lifelines) (1.3.0)\n",
      "Requirement already satisfied: astor>=0.8 in c:\\users\\lut lat aung\\anaconda3\\lib\\site-packages (from formulaic>=0.2.2->lifelines) (0.8.1)\n",
      "Requirement already satisfied: wrapt>=1.0 in c:\\users\\lut lat aung\\anaconda3\\lib\\site-packages (from formulaic>=0.2.2->lifelines) (1.12.1)\n",
      "Requirement already satisfied: packaging>=20.0 in c:\\users\\lut lat aung\\anaconda3\\lib\\site-packages (from matplotlib>=3.0->lifelines) (21.3)\n",
      "Requirement already satisfied: cycler>=0.10 in c:\\users\\lut lat aung\\anaconda3\\lib\\site-packages (from matplotlib>=3.0->lifelines) (0.11.0)\n",
      "Requirement already satisfied: pillow>=6.2.0 in c:\\users\\lut lat aung\\anaconda3\\lib\\site-packages (from matplotlib>=3.0->lifelines) (9.0.1)\n",
      "Note: you may need to restart the kernel to use updated packages.\n",
      "Requirement already satisfied: python-dateutil>=2.7 in c:\\users\\lut lat aung\\anaconda3\\lib\\site-packages (from matplotlib>=3.0->lifelines) (2.8.2)\n",
      "Requirement already satisfied: fonttools>=4.22.0 in c:\\users\\lut lat aung\\anaconda3\\lib\\site-packages (from matplotlib>=3.0->lifelines) (4.25.0)\n",
      "Requirement already satisfied: pyparsing>=2.2.1 in c:\\users\\lut lat aung\\anaconda3\\lib\\site-packages (from matplotlib>=3.0->lifelines) (3.0.4)\n",
      "Requirement already satisfied: kiwisolver>=1.0.1 in c:\\users\\lut lat aung\\anaconda3\\lib\\site-packages (from matplotlib>=3.0->lifelines) (1.3.2)\n",
      "Requirement already satisfied: pytz>=2020.1 in c:\\users\\lut lat aung\\anaconda3\\lib\\site-packages (from pandas>=1.0.0->lifelines) (2021.3)\n",
      "Requirement already satisfied: six>=1.5 in c:\\users\\lut lat aung\\anaconda3\\lib\\site-packages (from python-dateutil>=2.7->matplotlib>=3.0->lifelines) (1.16.0)\n"
     ]
    }
   ],
   "source": [
    "pip install lifelines"
   ]
  },
  {
   "cell_type": "code",
   "execution_count": 52,
   "id": "fa7f3a9e",
   "metadata": {},
   "outputs": [
    {
     "name": "stdout",
     "output_type": "stream",
     "text": [
      "1.2609, 0.2074\n"
     ]
    },
    {
     "data": {
      "text/plain": [
       "(0.48898223316199607, 0.5505496516518761)"
      ]
     },
     "execution_count": 52,
     "metadata": {},
     "output_type": "execute_result"
    }
   ],
   "source": [
    "# B.5.1 Significance Tests for Proportions\n",
    "\n",
    "import numpy as np\n",
    "from statsmodels.stats.proportion import proportions_ztest\n",
    "\n",
    "stat, pval = proportions_ztest(524, 1008, 0.50)\n",
    "print('{0:0.4f},'.format(stat),'{0:0.4f}'.format(pval))\n",
    "\n",
    "from statsmodels.stats.proportion import proportion_confint\n",
    "proportion_confint(524, 1008, method='wilson')\n",
    "\n"
   ]
  },
  {
   "cell_type": "code",
   "execution_count": 53,
   "id": "5a41fa03",
   "metadata": {},
   "outputs": [
    {
     "name": "stdout",
     "output_type": "stream",
     "text": [
      "0.4268, 0.6695\n"
     ]
    }
   ],
   "source": [
    "# The same Python function can test equality of two population proportions. Here is the\n",
    "# code for the example of Section 5.4.2 comparing proportions suffering complications after\n",
    "# heart surgery for prayer and non-prayer groups\n",
    "\n",
    "import numpy as np\n",
    "from statsmodels.stats.proportion import proportions_ztest\n",
    "\n",
    "count = np.array([315, 304]) # group 'success' counts\n",
    "nobs = np.array([604, 597]) # group sample sizes\n",
    "stat, pval = proportions_ztest(count, nobs)\n",
    "print('{0:0.4f},'.format(stat),'{0:0.4f}'.format(pval))\n"
   ]
  },
  {
   "cell_type": "code",
   "execution_count": 55,
   "id": "37e0c7af",
   "metadata": {},
   "outputs": [
    {
     "name": "stdout",
     "output_type": "stream",
     "text": [
      "                    Very happy  Pretty happy  Not too happy\n",
      "Married             301.613445    556.216153     139.170401\n",
      "Divorced/Separated  144.302521    266.113445      66.584034\n",
      "Never married       202.084034    372.670401      93.245565\n",
      "df          4\n",
      "pvalue      0.0\n",
      "statistic   197.407019249992\n"
     ]
    },
    {
     "data": {
      "image/png": "[encoded data removed]",
      "text/plain": [
       "<Figure size 432x288 with 3 Axes>"
      ]
     },
     "metadata": {
      "needs_background": "light"
     },
     "output_type": "display_data"
    }
   ],
   "source": [
    "# B.5.2 Chi-Squared Tests Comparing Multiple Proportions in Contin-gency Tables\n",
    "\n",
    "import numpy as np\n",
    "import pandas as pd\n",
    "import matplotlib as plt\n",
    "Happy = pd.read_csv('http://stat4ds.rwth-aachen.de/data/Happy.dat', sep='\\s+')\n",
    "rowlabel=['Married', 'Divorced/Separated', 'Never married']\n",
    "collabel=['Very happy', 'Pretty happy', 'Not too happy']\n",
    "table = pd.crosstab(Happy['marital'], Happy['happiness'], margins = False)\n",
    "table.index=rowlabel\n",
    "table.columns=collabel\n",
    "table # output not shown\n",
    "# conditional distributions on happiness (proportions within rows):\n",
    "\n",
    "proptable = pd.crosstab(Happy['marital'], Happy['happiness'], normalize='index')\n",
    "\n",
    "proptable.index=rowlabel\n",
    "proptable.columns=collabel\n",
    "proptable # output not shown\n",
    "\n",
    "import statsmodels.api as sm # expected frequencies under H0: independence\n",
    "table = sm.stats.Table(table)\n",
    "print(table.fittedvalues) # output not shown\n",
    "\n",
    "X2 = table.test_nominal_association() # chi-squared test of independence\n",
    "print(X2)\n",
    "\n",
    "table.standardized_resids # standardized residuals (not shown)\n",
    "Happy.loc[Happy['happiness'] == 1, 'happiness'] = 'Very'\n",
    "Happy.loc[Happy['happiness'] == 2, 'happiness'] = 'Pretty'\n",
    "Happy.loc[Happy['happiness'] == 3, 'happiness'] = 'Not too'\n",
    "Happy.loc[Happy['marital'] == 1, 'marital'] = 'Married'\n",
    "Happy.loc[Happy['marital'] == 2, 'marital'] = 'Div/Sep'\n",
    "Happy.loc[Happy['marital'] == 3, 'marital'] = 'Never'\n",
    "\n",
    "from statsmodels.graphics.mosaicplot import mosaic\n",
    "fig, _ = mosaic(Happy, ['marital','happiness'], statistic=True)"
   ]
  },
  {
   "cell_type": "code",
   "execution_count": 63,
   "id": "7560bebf",
   "metadata": {},
   "outputs": [
    {
     "name": "stdout",
     "output_type": "stream",
     "text": [
      " Multiple Comparison of Means - Tukey HSD, FWER=0.05 \n",
      "=====================================================\n",
      "group1 group2 meandiff p-adj   lower    upper  reject\n",
      "-----------------------------------------------------\n",
      "     B      H     3.25 0.8959 -14.1308 20.6308  False\n",
      "     B      W    14.73 0.0312   1.0886 28.3714   True\n",
      "     H      W    11.48 0.1426  -2.8806 25.8406  False\n",
      "-----------------------------------------------------\n",
      "                            OLS Regression Results                            \n",
      "==============================================================================\n",
      "Dep. Variable:                 income   R-squared:                       0.462\n",
      "Model:                            OLS   Adj. R-squared:                  0.441\n",
      "Method:                 Least Squares   F-statistic:                     21.75\n",
      "Date:                Thu, 29 Sep 2022   Prob (F-statistic):           2.85e-10\n",
      "Time:                        17:17:23   Log-Likelihood:                -330.52\n",
      "No. Observations:                  80   AIC:                             669.0\n",
      "Df Residuals:                      76   BIC:                             678.6\n",
      "Df Model:                           3                                         \n",
      "Covariance Type:            nonrobust                                         \n",
      "================================================================================\n",
      "                   coef    std err          t      P>|t|      [0.025      0.975]\n",
      "--------------------------------------------------------------------------------\n",
      "Intercept      -26.5379      8.512     -3.118      0.003     -43.492      -9.584\n",
      "C(race)[T.H]     5.9407      5.670      1.048      0.298      -5.352      17.234\n",
      "C(race)[T.W]    10.8744      4.473      2.431      0.017       1.966      19.783\n",
      "education        4.4317      0.619      7.158      0.000       3.199       5.665\n",
      "==============================================================================\n",
      "Omnibus:                       29.194   Durbin-Watson:                   1.900\n",
      "Prob(Omnibus):                  0.000   Jarque-Bera (JB):               57.596\n",
      "Skew:                           1.329   Prob(JB):                     3.11e-13\n",
      "Kurtosis:                       6.196   Cond. No.                         68.9\n",
      "==============================================================================\n",
      "\n",
      "Notes:\n",
      "[1] Standard Errors assume that the covariance matrix of the errors is correctly specified.\n"
     ]
    },
    {
     "data": {
      "text/html": [
       "<div>\n",
       "<style scoped>\n",
       "    .dataframe tbody tr th:only-of-type {\n",
       "        vertical-align: middle;\n",
       "    }\n",
       "\n",
       "    .dataframe tbody tr th {\n",
       "        vertical-align: top;\n",
       "    }\n",
       "\n",
       "    .dataframe thead th {\n",
       "        text-align: right;\n",
       "    }\n",
       "</style>\n",
       "<table border=\"1\" class=\"dataframe\">\n",
       "  <thead>\n",
       "    <tr style=\"text-align: right;\">\n",
       "      <th></th>\n",
       "      <th>sum_sq</th>\n",
       "      <th>df</th>\n",
       "      <th>F</th>\n",
       "      <th>PR(&gt;F)</th>\n",
       "    </tr>\n",
       "  </thead>\n",
       "  <tbody>\n",
       "    <tr>\n",
       "      <th>C(race)</th>\n",
       "      <td>1460.583947</td>\n",
       "      <td>2.0</td>\n",
       "      <td>3.055573</td>\n",
       "      <td>5.292198e-02</td>\n",
       "    </tr>\n",
       "    <tr>\n",
       "      <th>education</th>\n",
       "      <td>12245.231928</td>\n",
       "      <td>1.0</td>\n",
       "      <td>51.234580</td>\n",
       "      <td>4.422192e-10</td>\n",
       "    </tr>\n",
       "    <tr>\n",
       "      <th>Residual</th>\n",
       "      <td>18164.248072</td>\n",
       "      <td>76.0</td>\n",
       "      <td>NaN</td>\n",
       "      <td>NaN</td>\n",
       "    </tr>\n",
       "  </tbody>\n",
       "</table>\n",
       "</div>"
      ],
      "text/plain": [
       "                 sum_sq    df          F        PR(>F)\n",
       "C(race)     1460.583947   2.0   3.055573  5.292198e-02\n",
       "education  12245.231928   1.0  51.234580  4.422192e-10\n",
       "Residual   18164.248072  76.0        NaN           NaN"
      ]
     },
     "execution_count": 63,
     "metadata": {},
     "output_type": "execute_result"
    }
   ],
   "source": [
    "# B.6.5 Categorical Explanatory Variables in Linear Models\n",
    "\n",
    "import pandas as pd\n",
    "import statsmodels.formula.api as smf\n",
    "Income = pd.read_csv('http://stat4ds.rwth-aachen.de/data/Income.dat', sep='\\s+')\n",
    "\n",
    "Income.head(1)\n",
    "\n",
    "import statsmodels.api as sm\n",
    "# sm.stats.anova_lm(fit) # ANOVA table\n",
    "\n",
    "\n",
    "import statsmodels.stats.multicomp as mc\n",
    "comp = mc.MultiComparison(Income['income'], Income['race'])\n",
    "post_hoc_res = comp.tukeyhsd()\n",
    "print(post_hoc_res.summary())\n",
    "\n",
    "fit2 = smf.ols(formula = 'income ~ C(race) + education', data=Income).fit()\n",
    "print(fit2.summary()) # part of the output\n",
    "\n",
    "sm.stats.anova_lm(fit2, typ=2) # Type II sums of squares"
   ]
  },
  {
   "cell_type": "code",
   "execution_count": 5,
   "id": "e896f49e",
   "metadata": {},
   "outputs": [
    {
     "name": "stderr",
     "output_type": "stream",
     "text": [
      "C:\\Users\\Lut Lat Aung\\anaconda3\\lib\\site-packages\\deprecat\\classic.py:215: FutureWarning: In v4.0, pm.sample will return an `arviz.InferenceData` object instead of a `MultiTrace` by default. You can pass return_inferencedata=True or return_inferencedata=False to be safe and silence this warning.\n",
      "  return wrapped_(*args_, **kwargs_)\n",
      "Only 100 samples in chain.\n",
      "Auto-assigning NUTS sampler...\n",
      "Initializing NUTS using jitter+adapt_diag...\n",
      "C:\\Users\\Lut Lat Aung\\anaconda3\\lib\\site-packages\\theano\\tensor\\elemwise.py:826: RuntimeWarning: divide by zero encountered in log\n",
      "  variables = ufunc(*ufunc_args, **ufunc_kwargs)\n",
      "C:\\Users\\Lut Lat Aung\\anaconda3\\lib\\site-packages\\theano\\tensor\\elemwise.py:826: RuntimeWarning: invalid value encountered in multiply\n",
      "  variables = ufunc(*ufunc_args, **ufunc_kwargs)\n",
      "Multiprocess sampling (2 chains in 2 jobs)\n",
      "NUTS: [beta2, beta1, Intercept, sigma]\n"
     ]
    },
    {
     "data": {
      "text/html": [
       "\n",
       "<style>\n",
       "    /* Turns off some styling */\n",
       "    progress {\n",
       "        /* gets rid of default border in Firefox and Opera. */\n",
       "        border: none;\n",
       "        /* Needs to be in here for Safari polyfill so background images work as expected. */\n",
       "        background-size: auto;\n",
       "    }\n",
       "    progress:not([value]), progress:not([value])::-webkit-progress-bar {\n",
       "        background: repeating-linear-gradient(45deg, #7e7e7e, #7e7e7e 10px, #5c5c5c 10px, #5c5c5c 20px);\n",
       "    }\n",
       "    .progress-bar-interrupted, .progress-bar-interrupted::-webkit-progress-bar {\n",
       "        background: #F44336;\n",
       "    }\n",
       "</style>\n"
      ],
      "text/plain": [
       "<IPython.core.display.HTML object>"
      ]
     },
     "metadata": {},
     "output_type": "display_data"
    },
    {
     "data": {
      "text/html": [
       "\n",
       "    <div>\n",
       "      <progress value='2200' class='' max='2200' style='width:300px; height:20px; vertical-align: middle;'></progress>\n",
       "      100.00% [2200/2200 03:27&lt;00:00 Sampling 2 chains, 0 divergences]\n",
       "    </div>\n",
       "    "
      ],
      "text/plain": [
       "<IPython.core.display.HTML object>"
      ]
     },
     "metadata": {},
     "output_type": "display_data"
    },
    {
     "name": "stderr",
     "output_type": "stream",
     "text": [
      "Sampling 2 chains for 1_000 tune and 100 draw iterations (2_000 + 200 draws total) took 226 seconds.\n",
      "Got error No model on context stack. trying to find log_likelihood in translation.\n",
      "C:\\Users\\Lut Lat Aung\\anaconda3\\lib\\site-packages\\arviz\\data\\io_pymc3_3x.py:98: FutureWarning: Using `from_pymc3` without the model will be deprecated in a future release. Not using the model will return less accurate and less useful results. Make sure you use the model argument or call from_pymc3 within a model context.\n",
      "  warnings.warn(\n"
     ]
    },
    {
     "data": {
      "text/html": [
       "<div>\n",
       "<style scoped>\n",
       "    .dataframe tbody tr th:only-of-type {\n",
       "        vertical-align: middle;\n",
       "    }\n",
       "\n",
       "    .dataframe tbody tr th {\n",
       "        vertical-align: top;\n",
       "    }\n",
       "\n",
       "    .dataframe thead th {\n",
       "        text-align: right;\n",
       "    }\n",
       "</style>\n",
       "<table border=\"1\" class=\"dataframe\">\n",
       "  <thead>\n",
       "    <tr style=\"text-align: right;\">\n",
       "      <th></th>\n",
       "      <th>mean</th>\n",
       "      <th>sd</th>\n",
       "      <th>hdi_3%</th>\n",
       "      <th>hdi_97%</th>\n",
       "      <th>mcse_mean</th>\n",
       "      <th>mcse_sd</th>\n",
       "      <th>ess_bulk</th>\n",
       "      <th>ess_tail</th>\n",
       "      <th>r_hat</th>\n",
       "    </tr>\n",
       "  </thead>\n",
       "  <tbody>\n",
       "    <tr>\n",
       "      <th>Intercept</th>\n",
       "      <td>28.213</td>\n",
       "      <td>2.423</td>\n",
       "      <td>23.714</td>\n",
       "      <td>32.888</td>\n",
       "      <td>0.206</td>\n",
       "      <td>0.146</td>\n",
       "      <td>139.0</td>\n",
       "      <td>129.0</td>\n",
       "      <td>1.00</td>\n",
       "    </tr>\n",
       "    <tr>\n",
       "      <th>beta1</th>\n",
       "      <td>0.102</td>\n",
       "      <td>0.034</td>\n",
       "      <td>0.042</td>\n",
       "      <td>0.163</td>\n",
       "      <td>0.003</td>\n",
       "      <td>0.002</td>\n",
       "      <td>159.0</td>\n",
       "      <td>119.0</td>\n",
       "      <td>1.00</td>\n",
       "    </tr>\n",
       "    <tr>\n",
       "      <th>beta2</th>\n",
       "      <td>-0.097</td>\n",
       "      <td>0.032</td>\n",
       "      <td>-0.152</td>\n",
       "      <td>-0.036</td>\n",
       "      <td>0.003</td>\n",
       "      <td>0.002</td>\n",
       "      <td>146.0</td>\n",
       "      <td>132.0</td>\n",
       "      <td>1.00</td>\n",
       "    </tr>\n",
       "    <tr>\n",
       "      <th>sigma</th>\n",
       "      <td>4.618</td>\n",
       "      <td>0.571</td>\n",
       "      <td>3.830</td>\n",
       "      <td>5.902</td>\n",
       "      <td>0.049</td>\n",
       "      <td>0.036</td>\n",
       "      <td>171.0</td>\n",
       "      <td>97.0</td>\n",
       "      <td>1.01</td>\n",
       "    </tr>\n",
       "  </tbody>\n",
       "</table>\n",
       "</div>"
      ],
      "text/plain": [
       "             mean     sd  hdi_3%  hdi_97%  mcse_mean  mcse_sd  ess_bulk  \\\n",
       "Intercept  28.213  2.423  23.714   32.888      0.206    0.146     139.0   \n",
       "beta1       0.102  0.034   0.042    0.163      0.003    0.002     159.0   \n",
       "beta2      -0.097  0.032  -0.152   -0.036      0.003    0.002     146.0   \n",
       "sigma       4.618  0.571   3.830    5.902      0.049    0.036     171.0   \n",
       "\n",
       "           ess_tail  r_hat  \n",
       "Intercept     129.0   1.00  \n",
       "beta1         119.0   1.00  \n",
       "beta2         132.0   1.00  \n",
       "sigma          97.0   1.01  "
      ]
     },
     "execution_count": 5,
     "metadata": {},
     "output_type": "execute_result"
    }
   ],
   "source": [
    "# B.6.6 Bayesian Fitting of Linear Models\n",
    "\n",
    "import matplotlib.pyplot as plt\n",
    "from pymc3 import *\n",
    "import pymc3\n",
    "import statsmodels.api as sm\n",
    "import pandas as pd\n",
    "from pandas.plotting import scatter_matrix\n",
    "\n",
    "Mental = pd.read_csv('http://stat4ds.rwth-aachen.de/data/Mental.dat', sep='\\s+')\n",
    "y = Mental.impair; life = Mental.life; ses = Mental.ses\n",
    "B0 = 10**(-20); C0 = 10**(-10)\n",
    "# model specifications in PyMC3 are wrapped in a with-statement:\n",
    "\n",
    "with Model() as model: # define prior distributions\n",
    "    sigma = InverseGamma ('sigma', C0, C0, testval=1.)\n",
    "    Intercept = Normal('Intercept', 0, sigma=1/B0)\n",
    "    beta1 = Normal('beta1', 0, sigma=1/B0) # very flat priors\n",
    "    beta2 = Normal('beta2', 0, sigma=1/B0)\n",
    "    # define likelihood function\n",
    "    likelihood = Normal('y', mu=Intercept+beta1*life+beta2*ses,\n",
    "                        sigma=sigma, observed = Mental.impair)\n",
    "    trace = sample(100, cores=2) # 2x100000 posterior samples\n",
    "\n",
    "summary(trace)\n",
    "\n",
    "# sum(trace['beta1'] < 0)/200000 # analog of one-sided P-value\n",
    "# sum(trace['beta2'] > 0)/200000 # analog of one-sided P-value"
   ]
  },
  {
   "cell_type": "code",
   "execution_count": null,
   "id": "eb4cb6d0",
   "metadata": {},
   "outputs": [],
   "source": []
  },
  {
   "cell_type": "code",
   "execution_count": 6,
   "id": "c6302789",
   "metadata": {},
   "outputs": [
    {
     "data": {
      "text/plain": [
       "Text(0, 0.5, 'Probability density function')"
      ]
     },
     "execution_count": 6,
     "metadata": {},
     "output_type": "execute_result"
    },
    {
     "data": {
      "image/png": "[encoded data removed]",
      "text/plain": [
       "<Figure size 432x288 with 1 Axes>"
      ]
     },
     "metadata": {
      "needs_background": "light"
     },
     "output_type": "display_data"
    },
    {
     "data": {
      "image/png": "[encoded data removed]",
      "text/plain": [
       "<Figure size 720x504 with 1 Axes>"
      ]
     },
     "metadata": {
      "needs_background": "light"
     },
     "output_type": "display_data"
    }
   ],
   "source": [
    "# 4.1 T-Distribution\n",
    "\n",
    "import numpy as np\n",
    "from scipy.stats import t\n",
    "from scipy.stats import norm\n",
    "from matplotlib import pyplot as plt\n",
    "import statsmodels.api as sm\n",
    "import pylab as py\n",
    "fig, ax = plt.subplots()\n",
    "df=np.array([1,3,8,30]) # degrees of freedom \n",
    "y = np.linspace(-4,4, 100)\n",
    "\n",
    "\n",
    "def t_pdfs(): # function that creates plot as in Figure 4.5\n",
    "    fig, ax = plt.subplots(1, 1, figsize=(10, 7))\n",
    "    for i in range(4):\n",
    "        ax.plot(y, t.pdf(y, df[i]), lw=2)\n",
    "    ax.plot(y, norm.pdf(y), lw=2, linestyle='dashed')\n",
    "    ax.legend(['df=1','df=3','df=8','df=30','normal'],loc='upper right')\n",
    "    \n",
    "    \n",
    "t_pdfs()#run the function\n",
    "plt.xlabel(\"y\")\n",
    "plt.ylabel(\"Probability density function\")"
   ]
  },
  {
   "cell_type": "code",
   "execution_count": null,
   "id": "c353e67b",
   "metadata": {},
   "outputs": [],
   "source": []
  },
  {
   "cell_type": "code",
   "execution_count": 7,
   "id": "d5d09a78",
   "metadata": {},
   "outputs": [
    {
     "name": "stdout",
     "output_type": "stream",
     "text": [
      "  Gender    isSmoker\n",
      "0      M      Smoker\n",
      "1      M      Smoker\n",
      "2      M  Non-Smoker\n",
      "3      F  Non-Smoker\n",
      "4      F      Smoker\n",
      "isSmoker  Non-Smoker  Smoker\n",
      "Gender                      \n",
      "F                 10      10\n",
      "M                 10      20\n",
      "isSmoker  Non-Smoker    Smoker\n",
      "Gender                        \n",
      "F           0.500000  0.500000\n",
      "M           0.333333  0.666667\n",
      "0.3767591178115821\n"
     ]
    },
    {
     "data": {
      "image/png": "[encoded data removed]",
      "text/plain": [
       "<Figure size 864x576 with 2 Axes>"
      ]
     },
     "metadata": {
      "needs_background": "light"
     },
     "output_type": "display_data"
    }
   ],
   "source": [
    "# Author - Ye Thu\n",
    "# ID     - 611607\n",
    "\n",
    "import pandas as pd\n",
    "from scipy.stats import chi2_contingency\n",
    "\n",
    "import seaborn as sns\n",
    "import matplotlib.pyplot as plt\n",
    "\n",
    "INSPECT = True  # flip to True to see outputs\n",
    "\n",
    "df = pd.DataFrame({\n",
    "    'Gender': ['M', 'M', 'M', 'F', 'F', ] * 10,\n",
    "    'isSmoker': ['Smoker', 'Smoker', 'Non-Smoker', 'Non-Smoker', 'Smoker'] * 10\n",
    "})\n",
    "\n",
    "if INSPECT:\n",
    "    print(df.head())\n",
    "\n",
    "# convert data to contingency table\n",
    "contingency = pd.crosstab(df['Gender'], df['isSmoker'])\n",
    "\n",
    "if INSPECT:\n",
    "    print(contingency)\n",
    "\n",
    "# get percentages by gender\n",
    "# normalize='columns' -> percentages by column\n",
    "# normalize='all'     -> total percentage\n",
    "contingency_pct = pd.crosstab(df['Gender'], df['isSmoker'], normalize='index')\n",
    "\n",
    "if INSPECT:\n",
    "    print(contingency_pct)\n",
    "\n",
    "plt.figure(figsize=(12, 8))\n",
    "sns.heatmap(contingency, annot=True, cmap='YlGnBu')\n",
    "\n",
    "# chi-square test of independence\n",
    "c, p, dof, expected = chi2_contingency(contingency)\n",
    "\n",
    "if INSPECT:\n",
    "    # print the p-value\n",
    "    print(p)\n",
    "    \n",
    "\n",
    "# The p-value is 37.67% -> we do not reject the null hypothesis at 95% level of confidence\n",
    "# The null hypothesis was that `Smokers` and `Gender` are independent\n",
    "# The contingency table was 2×2, we could have applied z-test for proportions instead of chi-square test\n",
    "# Chi-square test can be extended to m×n contingency tables\n",
    "\n",
    "\n"
   ]
  }
 ],
 "metadata": {
  "kernelspec": {
   "display_name": "Python 3 (ipykernel)",
   "language": "python",
   "name": "python3"
  },
  "language_info": {
   "codemirror_mode": {
    "name": "ipython",
    "version": 3
   },
   "file_extension": ".py",
   "mimetype": "text/x-python",
   "name": "python",
   "nbconvert_exporter": "python",
   "pygments_lexer": "ipython3",
   "version": "3.9.12"
  }
 },
 "nbformat": 4,
 "nbformat_minor": 5
}
